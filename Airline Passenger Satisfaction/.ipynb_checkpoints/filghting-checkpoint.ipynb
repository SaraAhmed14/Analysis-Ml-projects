{
 "cells": [
  {
   "cell_type": "code",
   "execution_count": 1,
   "id": "9bc88029",
   "metadata": {
    "ExecuteTime": {
     "end_time": "2022-11-23T16:58:57.443144Z",
     "start_time": "2022-11-23T16:58:54.710155Z"
    }
   },
   "outputs": [],
   "source": [
    "import numpy as np \n",
    "import pandas as pd \n",
    "import seaborn as sns\n",
    "sns.set({'figure.figsize':[9,9]},)"
   ]
  },
  {
   "cell_type": "code",
   "execution_count": 2,
   "id": "d3b1878a",
   "metadata": {
    "ExecuteTime": {
     "end_time": "2022-11-23T16:59:54.296260Z",
     "start_time": "2022-11-23T16:59:53.833304Z"
    },
    "scrolled": true
   },
   "outputs": [
    {
     "data": {
      "text/html": [
       "<div>\n",
       "<style scoped>\n",
       "    .dataframe tbody tr th:only-of-type {\n",
       "        vertical-align: middle;\n",
       "    }\n",
       "\n",
       "    .dataframe tbody tr th {\n",
       "        vertical-align: top;\n",
       "    }\n",
       "\n",
       "    .dataframe thead th {\n",
       "        text-align: right;\n",
       "    }\n",
       "</style>\n",
       "<table border=\"1\" class=\"dataframe\">\n",
       "  <thead>\n",
       "    <tr style=\"text-align: right;\">\n",
       "      <th></th>\n",
       "      <th>Unnamed: 0</th>\n",
       "      <th>id</th>\n",
       "      <th>Gender</th>\n",
       "      <th>Customer Type</th>\n",
       "      <th>Age</th>\n",
       "      <th>Type of Travel</th>\n",
       "      <th>Class</th>\n",
       "      <th>Flight Distance</th>\n",
       "      <th>Inflight wifi service</th>\n",
       "      <th>Departure/Arrival time convenient</th>\n",
       "      <th>...</th>\n",
       "      <th>Inflight entertainment</th>\n",
       "      <th>On-board service</th>\n",
       "      <th>Leg room service</th>\n",
       "      <th>Baggage handling</th>\n",
       "      <th>Checkin service</th>\n",
       "      <th>Inflight service</th>\n",
       "      <th>Cleanliness</th>\n",
       "      <th>Departure Delay in Minutes</th>\n",
       "      <th>Arrival Delay in Minutes</th>\n",
       "      <th>satisfaction</th>\n",
       "    </tr>\n",
       "  </thead>\n",
       "  <tbody>\n",
       "    <tr>\n",
       "      <th>0</th>\n",
       "      <td>0</td>\n",
       "      <td>70172</td>\n",
       "      <td>Male</td>\n",
       "      <td>Loyal Customer</td>\n",
       "      <td>13</td>\n",
       "      <td>Personal Travel</td>\n",
       "      <td>Eco Plus</td>\n",
       "      <td>460</td>\n",
       "      <td>3</td>\n",
       "      <td>4</td>\n",
       "      <td>...</td>\n",
       "      <td>5</td>\n",
       "      <td>4</td>\n",
       "      <td>3</td>\n",
       "      <td>4</td>\n",
       "      <td>4</td>\n",
       "      <td>5</td>\n",
       "      <td>5</td>\n",
       "      <td>25</td>\n",
       "      <td>18.0</td>\n",
       "      <td>neutral or dissatisfied</td>\n",
       "    </tr>\n",
       "    <tr>\n",
       "      <th>1</th>\n",
       "      <td>1</td>\n",
       "      <td>5047</td>\n",
       "      <td>Male</td>\n",
       "      <td>disloyal Customer</td>\n",
       "      <td>25</td>\n",
       "      <td>Business travel</td>\n",
       "      <td>Business</td>\n",
       "      <td>235</td>\n",
       "      <td>3</td>\n",
       "      <td>2</td>\n",
       "      <td>...</td>\n",
       "      <td>1</td>\n",
       "      <td>1</td>\n",
       "      <td>5</td>\n",
       "      <td>3</td>\n",
       "      <td>1</td>\n",
       "      <td>4</td>\n",
       "      <td>1</td>\n",
       "      <td>1</td>\n",
       "      <td>6.0</td>\n",
       "      <td>neutral or dissatisfied</td>\n",
       "    </tr>\n",
       "    <tr>\n",
       "      <th>2</th>\n",
       "      <td>2</td>\n",
       "      <td>110028</td>\n",
       "      <td>Female</td>\n",
       "      <td>Loyal Customer</td>\n",
       "      <td>26</td>\n",
       "      <td>Business travel</td>\n",
       "      <td>Business</td>\n",
       "      <td>1142</td>\n",
       "      <td>2</td>\n",
       "      <td>2</td>\n",
       "      <td>...</td>\n",
       "      <td>5</td>\n",
       "      <td>4</td>\n",
       "      <td>3</td>\n",
       "      <td>4</td>\n",
       "      <td>4</td>\n",
       "      <td>4</td>\n",
       "      <td>5</td>\n",
       "      <td>0</td>\n",
       "      <td>0.0</td>\n",
       "      <td>satisfied</td>\n",
       "    </tr>\n",
       "    <tr>\n",
       "      <th>3</th>\n",
       "      <td>3</td>\n",
       "      <td>24026</td>\n",
       "      <td>Female</td>\n",
       "      <td>Loyal Customer</td>\n",
       "      <td>25</td>\n",
       "      <td>Business travel</td>\n",
       "      <td>Business</td>\n",
       "      <td>562</td>\n",
       "      <td>2</td>\n",
       "      <td>5</td>\n",
       "      <td>...</td>\n",
       "      <td>2</td>\n",
       "      <td>2</td>\n",
       "      <td>5</td>\n",
       "      <td>3</td>\n",
       "      <td>1</td>\n",
       "      <td>4</td>\n",
       "      <td>2</td>\n",
       "      <td>11</td>\n",
       "      <td>9.0</td>\n",
       "      <td>neutral or dissatisfied</td>\n",
       "    </tr>\n",
       "    <tr>\n",
       "      <th>4</th>\n",
       "      <td>4</td>\n",
       "      <td>119299</td>\n",
       "      <td>Male</td>\n",
       "      <td>Loyal Customer</td>\n",
       "      <td>61</td>\n",
       "      <td>Business travel</td>\n",
       "      <td>Business</td>\n",
       "      <td>214</td>\n",
       "      <td>3</td>\n",
       "      <td>3</td>\n",
       "      <td>...</td>\n",
       "      <td>3</td>\n",
       "      <td>3</td>\n",
       "      <td>4</td>\n",
       "      <td>4</td>\n",
       "      <td>3</td>\n",
       "      <td>3</td>\n",
       "      <td>3</td>\n",
       "      <td>0</td>\n",
       "      <td>0.0</td>\n",
       "      <td>satisfied</td>\n",
       "    </tr>\n",
       "    <tr>\n",
       "      <th>...</th>\n",
       "      <td>...</td>\n",
       "      <td>...</td>\n",
       "      <td>...</td>\n",
       "      <td>...</td>\n",
       "      <td>...</td>\n",
       "      <td>...</td>\n",
       "      <td>...</td>\n",
       "      <td>...</td>\n",
       "      <td>...</td>\n",
       "      <td>...</td>\n",
       "      <td>...</td>\n",
       "      <td>...</td>\n",
       "      <td>...</td>\n",
       "      <td>...</td>\n",
       "      <td>...</td>\n",
       "      <td>...</td>\n",
       "      <td>...</td>\n",
       "      <td>...</td>\n",
       "      <td>...</td>\n",
       "      <td>...</td>\n",
       "      <td>...</td>\n",
       "    </tr>\n",
       "    <tr>\n",
       "      <th>25971</th>\n",
       "      <td>25971</td>\n",
       "      <td>78463</td>\n",
       "      <td>Male</td>\n",
       "      <td>disloyal Customer</td>\n",
       "      <td>34</td>\n",
       "      <td>Business travel</td>\n",
       "      <td>Business</td>\n",
       "      <td>526</td>\n",
       "      <td>3</td>\n",
       "      <td>3</td>\n",
       "      <td>...</td>\n",
       "      <td>4</td>\n",
       "      <td>3</td>\n",
       "      <td>2</td>\n",
       "      <td>4</td>\n",
       "      <td>4</td>\n",
       "      <td>5</td>\n",
       "      <td>4</td>\n",
       "      <td>0</td>\n",
       "      <td>0.0</td>\n",
       "      <td>neutral or dissatisfied</td>\n",
       "    </tr>\n",
       "    <tr>\n",
       "      <th>25972</th>\n",
       "      <td>25972</td>\n",
       "      <td>71167</td>\n",
       "      <td>Male</td>\n",
       "      <td>Loyal Customer</td>\n",
       "      <td>23</td>\n",
       "      <td>Business travel</td>\n",
       "      <td>Business</td>\n",
       "      <td>646</td>\n",
       "      <td>4</td>\n",
       "      <td>4</td>\n",
       "      <td>...</td>\n",
       "      <td>4</td>\n",
       "      <td>4</td>\n",
       "      <td>5</td>\n",
       "      <td>5</td>\n",
       "      <td>5</td>\n",
       "      <td>5</td>\n",
       "      <td>4</td>\n",
       "      <td>0</td>\n",
       "      <td>0.0</td>\n",
       "      <td>satisfied</td>\n",
       "    </tr>\n",
       "    <tr>\n",
       "      <th>25973</th>\n",
       "      <td>25973</td>\n",
       "      <td>37675</td>\n",
       "      <td>Female</td>\n",
       "      <td>Loyal Customer</td>\n",
       "      <td>17</td>\n",
       "      <td>Personal Travel</td>\n",
       "      <td>Eco</td>\n",
       "      <td>828</td>\n",
       "      <td>2</td>\n",
       "      <td>5</td>\n",
       "      <td>...</td>\n",
       "      <td>2</td>\n",
       "      <td>4</td>\n",
       "      <td>3</td>\n",
       "      <td>4</td>\n",
       "      <td>5</td>\n",
       "      <td>4</td>\n",
       "      <td>2</td>\n",
       "      <td>0</td>\n",
       "      <td>0.0</td>\n",
       "      <td>neutral or dissatisfied</td>\n",
       "    </tr>\n",
       "    <tr>\n",
       "      <th>25974</th>\n",
       "      <td>25974</td>\n",
       "      <td>90086</td>\n",
       "      <td>Male</td>\n",
       "      <td>Loyal Customer</td>\n",
       "      <td>14</td>\n",
       "      <td>Business travel</td>\n",
       "      <td>Business</td>\n",
       "      <td>1127</td>\n",
       "      <td>3</td>\n",
       "      <td>3</td>\n",
       "      <td>...</td>\n",
       "      <td>4</td>\n",
       "      <td>3</td>\n",
       "      <td>2</td>\n",
       "      <td>5</td>\n",
       "      <td>4</td>\n",
       "      <td>5</td>\n",
       "      <td>4</td>\n",
       "      <td>0</td>\n",
       "      <td>0.0</td>\n",
       "      <td>satisfied</td>\n",
       "    </tr>\n",
       "    <tr>\n",
       "      <th>25975</th>\n",
       "      <td>25975</td>\n",
       "      <td>34799</td>\n",
       "      <td>Female</td>\n",
       "      <td>Loyal Customer</td>\n",
       "      <td>42</td>\n",
       "      <td>Personal Travel</td>\n",
       "      <td>Eco</td>\n",
       "      <td>264</td>\n",
       "      <td>2</td>\n",
       "      <td>5</td>\n",
       "      <td>...</td>\n",
       "      <td>1</td>\n",
       "      <td>1</td>\n",
       "      <td>2</td>\n",
       "      <td>1</td>\n",
       "      <td>1</td>\n",
       "      <td>1</td>\n",
       "      <td>1</td>\n",
       "      <td>0</td>\n",
       "      <td>0.0</td>\n",
       "      <td>neutral or dissatisfied</td>\n",
       "    </tr>\n",
       "  </tbody>\n",
       "</table>\n",
       "<p>129880 rows × 25 columns</p>\n",
       "</div>"
      ],
      "text/plain": [
       "       Unnamed: 0      id  Gender      Customer Type  Age   Type of Travel  \\\n",
       "0               0   70172    Male     Loyal Customer   13  Personal Travel   \n",
       "1               1    5047    Male  disloyal Customer   25  Business travel   \n",
       "2               2  110028  Female     Loyal Customer   26  Business travel   \n",
       "3               3   24026  Female     Loyal Customer   25  Business travel   \n",
       "4               4  119299    Male     Loyal Customer   61  Business travel   \n",
       "...           ...     ...     ...                ...  ...              ...   \n",
       "25971       25971   78463    Male  disloyal Customer   34  Business travel   \n",
       "25972       25972   71167    Male     Loyal Customer   23  Business travel   \n",
       "25973       25973   37675  Female     Loyal Customer   17  Personal Travel   \n",
       "25974       25974   90086    Male     Loyal Customer   14  Business travel   \n",
       "25975       25975   34799  Female     Loyal Customer   42  Personal Travel   \n",
       "\n",
       "          Class  Flight Distance  Inflight wifi service  \\\n",
       "0      Eco Plus              460                      3   \n",
       "1      Business              235                      3   \n",
       "2      Business             1142                      2   \n",
       "3      Business              562                      2   \n",
       "4      Business              214                      3   \n",
       "...         ...              ...                    ...   \n",
       "25971  Business              526                      3   \n",
       "25972  Business              646                      4   \n",
       "25973       Eco              828                      2   \n",
       "25974  Business             1127                      3   \n",
       "25975       Eco              264                      2   \n",
       "\n",
       "       Departure/Arrival time convenient  ...  Inflight entertainment  \\\n",
       "0                                      4  ...                       5   \n",
       "1                                      2  ...                       1   \n",
       "2                                      2  ...                       5   \n",
       "3                                      5  ...                       2   \n",
       "4                                      3  ...                       3   \n",
       "...                                  ...  ...                     ...   \n",
       "25971                                  3  ...                       4   \n",
       "25972                                  4  ...                       4   \n",
       "25973                                  5  ...                       2   \n",
       "25974                                  3  ...                       4   \n",
       "25975                                  5  ...                       1   \n",
       "\n",
       "       On-board service  Leg room service  Baggage handling  Checkin service  \\\n",
       "0                     4                 3                 4                4   \n",
       "1                     1                 5                 3                1   \n",
       "2                     4                 3                 4                4   \n",
       "3                     2                 5                 3                1   \n",
       "4                     3                 4                 4                3   \n",
       "...                 ...               ...               ...              ...   \n",
       "25971                 3                 2                 4                4   \n",
       "25972                 4                 5                 5                5   \n",
       "25973                 4                 3                 4                5   \n",
       "25974                 3                 2                 5                4   \n",
       "25975                 1                 2                 1                1   \n",
       "\n",
       "       Inflight service  Cleanliness  Departure Delay in Minutes  \\\n",
       "0                     5            5                          25   \n",
       "1                     4            1                           1   \n",
       "2                     4            5                           0   \n",
       "3                     4            2                          11   \n",
       "4                     3            3                           0   \n",
       "...                 ...          ...                         ...   \n",
       "25971                 5            4                           0   \n",
       "25972                 5            4                           0   \n",
       "25973                 4            2                           0   \n",
       "25974                 5            4                           0   \n",
       "25975                 1            1                           0   \n",
       "\n",
       "       Arrival Delay in Minutes             satisfaction  \n",
       "0                          18.0  neutral or dissatisfied  \n",
       "1                           6.0  neutral or dissatisfied  \n",
       "2                           0.0                satisfied  \n",
       "3                           9.0  neutral or dissatisfied  \n",
       "4                           0.0                satisfied  \n",
       "...                         ...                      ...  \n",
       "25971                       0.0  neutral or dissatisfied  \n",
       "25972                       0.0                satisfied  \n",
       "25973                       0.0  neutral or dissatisfied  \n",
       "25974                       0.0                satisfied  \n",
       "25975                       0.0  neutral or dissatisfied  \n",
       "\n",
       "[129880 rows x 25 columns]"
      ]
     },
     "execution_count": 2,
     "metadata": {},
     "output_type": "execute_result"
    }
   ],
   "source": [
    "df_train = pd.read_csv('train.csv')\n",
    "df_test = pd.read_csv('test.csv')\n",
    "df = pd.concat([df_train,df_test])\n",
    "df"
   ]
  },
  {
   "cell_type": "code",
   "execution_count": 3,
   "id": "979d3b0f",
   "metadata": {},
   "outputs": [
    {
     "data": {
      "text/plain": [
       "Index(['Unnamed: 0', 'id', 'Gender', 'Customer Type', 'Age', 'Type of Travel',\n",
       "       'Class', 'Flight Distance', 'Inflight wifi service',\n",
       "       'Departure/Arrival time convenient', 'Ease of Online booking',\n",
       "       'Gate location', 'Food and drink', 'Online boarding', 'Seat comfort',\n",
       "       'Inflight entertainment', 'On-board service', 'Leg room service',\n",
       "       'Baggage handling', 'Checkin service', 'Inflight service',\n",
       "       'Cleanliness', 'Departure Delay in Minutes', 'Arrival Delay in Minutes',\n",
       "       'satisfaction'],\n",
       "      dtype='object')"
      ]
     },
     "execution_count": 3,
     "metadata": {},
     "output_type": "execute_result"
    }
   ],
   "source": [
    "df.columns"
   ]
  },
  {
   "cell_type": "markdown",
   "id": "e2885df6",
   "metadata": {
    "ExecuteTime": {
     "end_time": "2022-11-23T17:11:23.320038Z",
     "start_time": "2022-11-23T17:11:23.299916Z"
    }
   },
   "source": [
    "# Domain knowledge :\n",
    "\n",
    "<span class=\"mark\"> Gender:  </span> Gender of the passengers (Female, Male)\n",
    "\n",
    "<span class=\"mark\"> Customer Type: </span> The customer type (Loyal customer, disloyal customer)\n",
    "\n",
    "<span class=\"mark\"> Age: </span> The actual age of the passengers\n",
    "\n",
    "<span class=\"mark\"> Type of Travel: </span> Purpose of the flight of the passengers (Personal Travel, Business Travel)\n",
    "\n",
    "<span class=\"mark\"> Class: </span> Travel class in the plane of the passengers (Business, Eco, Eco Plus)\n",
    "\n",
    "<span class=\"mark\"> Flight distance: </span> The flight distance of this journey\n",
    "\n",
    "<span class=\"mark\"> Inflight wifi service: </span> Satisfaction level of the inflight wifi service (0:Not Applicable;1-5)\n",
    "\n",
    "<span class=\"mark\"> Departure/Arrival time convenient: </span> Satisfaction level of Departure/Arrival time convenient\n",
    "\n",
    "<span class=\"mark\"> Ease of Online booking: </span> Satisfaction level of online booking\n",
    "\n",
    "<span class=\"mark\"> Gate location: </span> Satisfaction level of Gate location\n",
    "\n",
    "<span class=\"mark\"> Food and drink: </span> Satisfaction level of Food and drink\n",
    "\n",
    "<span class=\"mark\"> Online boarding: </span> Satisfaction level of online boarding\n",
    "\n",
    "<span class=\"mark\"> Seat comfort: </span> Satisfaction level of Seat comfort\n",
    "\n",
    "<span class=\"mark\"> Inflight entertainment: </span> Satisfaction level of inflight entertainment\n",
    "\n",
    "<span class=\"mark\"> On-board service: </span> Satisfaction level of On-board service\n",
    "\n",
    "<span class=\"mark\"> Leg room service: </span> Satisfaction level of Leg room service\n",
    "\n",
    "<span class=\"mark\"> Baggage handling: </span> Satisfaction level of baggage handling\n",
    "\n",
    "<span class=\"mark\"> Check-in service: </span> Satisfaction level of Check-in service\n",
    "\n",
    "<span class=\"mark\"> Inflight service: </span> Satisfaction level of inflight service\n",
    "\n",
    "<span class=\"mark\"> Cleanliness: </span> Satisfaction level of Cleanliness\n",
    "\n",
    "<span class=\"mark\"> Departure Delay in Minutes: </span> Minutes delayed when departure\n",
    "\n",
    "<span class=\"mark\"> Arrival Delay in Minutes: </span> Minutes delayed when Arrival\n",
    "\n",
    "<span class=\"mark\"> Satisfaction: </span> Airline satisfaction level(Satisfaction, neutral or dissatisfaction)"
   ]
  },
  {
   "cell_type": "code",
   "execution_count": 4,
   "id": "2b824e97",
   "metadata": {
    "ExecuteTime": {
     "end_time": "2022-11-23T17:44:09.410759Z",
     "start_time": "2022-11-23T17:44:09.252604Z"
    }
   },
   "outputs": [
    {
     "name": "stdout",
     "output_type": "stream",
     "text": [
      "<class 'pandas.core.frame.DataFrame'>\n",
      "Int64Index: 129880 entries, 0 to 25975\n",
      "Data columns (total 25 columns):\n",
      " #   Column                             Non-Null Count   Dtype  \n",
      "---  ------                             --------------   -----  \n",
      " 0   Unnamed: 0                         129880 non-null  int64  \n",
      " 1   id                                 129880 non-null  int64  \n",
      " 2   Gender                             129880 non-null  object \n",
      " 3   Customer Type                      129880 non-null  object \n",
      " 4   Age                                129880 non-null  int64  \n",
      " 5   Type of Travel                     129880 non-null  object \n",
      " 6   Class                              129880 non-null  object \n",
      " 7   Flight Distance                    129880 non-null  int64  \n",
      " 8   Inflight wifi service              129880 non-null  int64  \n",
      " 9   Departure/Arrival time convenient  129880 non-null  int64  \n",
      " 10  Ease of Online booking             129880 non-null  int64  \n",
      " 11  Gate location                      129880 non-null  int64  \n",
      " 12  Food and drink                     129880 non-null  int64  \n",
      " 13  Online boarding                    129880 non-null  int64  \n",
      " 14  Seat comfort                       129880 non-null  int64  \n",
      " 15  Inflight entertainment             129880 non-null  int64  \n",
      " 16  On-board service                   129880 non-null  int64  \n",
      " 17  Leg room service                   129880 non-null  int64  \n",
      " 18  Baggage handling                   129880 non-null  int64  \n",
      " 19  Checkin service                    129880 non-null  int64  \n",
      " 20  Inflight service                   129880 non-null  int64  \n",
      " 21  Cleanliness                        129880 non-null  int64  \n",
      " 22  Departure Delay in Minutes         129880 non-null  int64  \n",
      " 23  Arrival Delay in Minutes           129487 non-null  float64\n",
      " 24  satisfaction                       129880 non-null  object \n",
      "dtypes: float64(1), int64(19), object(5)\n",
      "memory usage: 25.8+ MB\n"
     ]
    }
   ],
   "source": [
    "df.info()"
   ]
  },
  {
   "cell_type": "code",
   "execution_count": null,
   "id": "468845d4",
   "metadata": {},
   "outputs": [],
   "source": []
  },
  {
   "cell_type": "markdown",
   "id": "4f1cb39e",
   "metadata": {},
   "source": [
    "# Unmamed:0 and ID"
   ]
  },
  {
   "cell_type": "code",
   "execution_count": 5,
   "id": "e5e3e7b2",
   "metadata": {
    "ExecuteTime": {
     "end_time": "2022-11-23T17:48:18.396335Z",
     "start_time": "2022-11-23T17:48:18.352929Z"
    }
   },
   "outputs": [
    {
     "data": {
      "text/plain": [
       "count    129880.000000\n",
       "mean      44158.700000\n",
       "std       31207.377062\n",
       "min           0.000000\n",
       "25%       16234.750000\n",
       "50%       38963.500000\n",
       "75%       71433.250000\n",
       "max      103903.000000\n",
       "Name: Unnamed: 0, dtype: float64"
      ]
     },
     "execution_count": 5,
     "metadata": {},
     "output_type": "execute_result"
    }
   ],
   "source": [
    "df['Unnamed: 0'].describe()"
   ]
  },
  {
   "cell_type": "code",
   "execution_count": 6,
   "id": "3ce7eadd",
   "metadata": {
    "ExecuteTime": {
     "end_time": "2022-11-23T17:51:44.231837Z",
     "start_time": "2022-11-23T17:51:44.201012Z"
    }
   },
   "outputs": [],
   "source": [
    "df.drop(['Unnamed: 0','id'],inplace=True,axis=1)"
   ]
  },
  {
   "cell_type": "markdown",
   "id": "7c20d3ad",
   "metadata": {},
   "source": [
    "# Gender"
   ]
  },
  {
   "cell_type": "code",
   "execution_count": 7,
   "id": "a2df1a51",
   "metadata": {
    "ExecuteTime": {
     "end_time": "2022-11-23T17:53:09.261041Z",
     "start_time": "2022-11-23T17:53:09.238596Z"
    }
   },
   "outputs": [
    {
     "data": {
      "text/plain": [
       "array(['Male', 'Female'], dtype=object)"
      ]
     },
     "execution_count": 7,
     "metadata": {},
     "output_type": "execute_result"
    }
   ],
   "source": [
    "df['Gender'].unique()\n"
   ]
  },
  {
   "cell_type": "code",
   "execution_count": 8,
   "id": "8eef4a6f",
   "metadata": {
    "ExecuteTime": {
     "end_time": "2022-11-23T18:05:40.761193Z",
     "start_time": "2022-11-23T18:05:40.729282Z"
    }
   },
   "outputs": [
    {
     "data": {
      "text/plain": [
       "Female    65899\n",
       "Male      63981\n",
       "Name: Gender, dtype: int64"
      ]
     },
     "execution_count": 8,
     "metadata": {},
     "output_type": "execute_result"
    }
   ],
   "source": [
    "df['Gender'].value_counts()"
   ]
  },
  {
   "cell_type": "code",
   "execution_count": 9,
   "id": "e614a7cd",
   "metadata": {
    "ExecuteTime": {
     "end_time": "2022-11-23T18:05:06.836851Z",
     "start_time": "2022-11-23T18:05:06.577293Z"
    }
   },
   "outputs": [
    {
     "data": {
      "text/plain": [
       "<AxesSubplot:xlabel='Gender', ylabel='count'>"
      ]
     },
     "execution_count": 9,
     "metadata": {},
     "output_type": "execute_result"
    },
    {
     "data": {
      "image/png": "[encoded data removed]",
      "text/plain": [
       "<Figure size 900x900 with 1 Axes>"
      ]
     },
     "metadata": {},
     "output_type": "display_data"
    }
   ],
   "source": [
    "sns.countplot(x='Gender',data=df,palette='Blues')"
   ]
  },
  {
   "cell_type": "markdown",
   "id": "d2a99b51",
   "metadata": {},
   "source": [
    "# customer type"
   ]
  },
  {
   "cell_type": "code",
   "execution_count": 10,
   "id": "e13bf4e2",
   "metadata": {
    "ExecuteTime": {
     "end_time": "2022-11-23T18:08:17.237839Z",
     "start_time": "2022-11-23T18:08:17.210925Z"
    }
   },
   "outputs": [
    {
     "data": {
      "text/plain": [
       "array(['Loyal Customer', 'disloyal Customer'], dtype=object)"
      ]
     },
     "execution_count": 10,
     "metadata": {},
     "output_type": "execute_result"
    }
   ],
   "source": [
    "df['Customer Type'].unique()"
   ]
  },
  {
   "cell_type": "code",
   "execution_count": 11,
   "id": "c99b9470",
   "metadata": {
    "ExecuteTime": {
     "end_time": "2022-11-23T18:08:45.379280Z",
     "start_time": "2022-11-23T18:08:45.346760Z"
    }
   },
   "outputs": [
    {
     "data": {
      "text/plain": [
       "Loyal Customer       106100\n",
       "disloyal Customer     23780\n",
       "Name: Customer Type, dtype: int64"
      ]
     },
     "execution_count": 11,
     "metadata": {},
     "output_type": "execute_result"
    }
   ],
   "source": [
    "df['Customer Type'].value_counts()"
   ]
  },
  {
   "cell_type": "code",
   "execution_count": 12,
   "id": "e5d0bc22",
   "metadata": {
    "ExecuteTime": {
     "end_time": "2022-11-23T18:09:35.086390Z",
     "start_time": "2022-11-23T18:09:34.825607Z"
    }
   },
   "outputs": [
    {
     "data": {
      "text/plain": [
       "<AxesSubplot:xlabel='Customer Type', ylabel='count'>"
      ]
     },
     "execution_count": 12,
     "metadata": {},
     "output_type": "execute_result"
    },
    {
     "data": {
      "image/png": "[encoded data removed]",
      "text/plain": [
       "<Figure size 900x900 with 1 Axes>"
      ]
     },
     "metadata": {},
     "output_type": "display_data"
    }
   ],
   "source": [
    "sns.countplot(x='Customer Type',data=df,palette='Paired')"
   ]
  },
  {
   "cell_type": "markdown",
   "id": "c80d4d23",
   "metadata": {},
   "source": [
    "# Age"
   ]
  },
  {
   "cell_type": "code",
   "execution_count": 13,
   "id": "2295f4b1",
   "metadata": {
    "ExecuteTime": {
     "end_time": "2022-11-23T18:15:50.877968Z",
     "start_time": "2022-11-23T18:15:50.862527Z"
    }
   },
   "outputs": [
    {
     "data": {
      "text/plain": [
       "array([ 7,  8,  9, 10, 11, 12, 13, 14, 15, 16, 17, 18, 19, 20, 21, 22, 23,\n",
       "       24, 25, 26, 27, 28, 29, 30, 31, 32, 33, 34, 35, 36, 37, 38, 39, 40,\n",
       "       41, 42, 43, 44, 45, 46, 47, 48, 49, 50, 51, 52, 53, 54, 55, 56, 57,\n",
       "       58, 59, 60, 61, 62, 63, 64, 65, 66, 67, 68, 69, 70, 71, 72, 73, 74,\n",
       "       75, 76, 77, 78, 79, 80, 85], dtype=int64)"
      ]
     },
     "execution_count": 13,
     "metadata": {},
     "output_type": "execute_result"
    }
   ],
   "source": [
    "np.sort(df['Age'].unique())"
   ]
  },
  {
   "cell_type": "code",
   "execution_count": 14,
   "id": "658fc059",
   "metadata": {
    "ExecuteTime": {
     "end_time": "2022-11-23T18:20:52.554948Z",
     "start_time": "2022-11-23T18:20:52.531712Z"
    }
   },
   "outputs": [
    {
     "data": {
      "text/plain": [
       "count    129880.000000\n",
       "mean         39.427957\n",
       "std          15.119360\n",
       "min           7.000000\n",
       "25%          27.000000\n",
       "50%          40.000000\n",
       "75%          51.000000\n",
       "max          85.000000\n",
       "Name: Age, dtype: float64"
      ]
     },
     "execution_count": 14,
     "metadata": {},
     "output_type": "execute_result"
    }
   ],
   "source": [
    "df['Age'].describe()"
   ]
  },
  {
   "cell_type": "code",
   "execution_count": 15,
   "id": "c0d753c1",
   "metadata": {
    "ExecuteTime": {
     "end_time": "2022-11-23T18:26:33.244201Z",
     "start_time": "2022-11-23T18:26:32.431290Z"
    }
   },
   "outputs": [
    {
     "name": "stderr",
     "output_type": "stream",
     "text": [
      "C:\\Users\\sarah\\anaconda3\\lib\\site-packages\\seaborn\\distributions.py:2619: FutureWarning: `distplot` is a deprecated function and will be removed in a future version. Please adapt your code to use either `displot` (a figure-level function with similar flexibility) or `histplot` (an axes-level function for histograms).\n",
      "  warnings.warn(msg, FutureWarning)\n"
     ]
    },
    {
     "data": {
      "text/plain": [
       "<AxesSubplot:xlabel='Age', ylabel='Density'>"
      ]
     },
     "execution_count": 15,
     "metadata": {},
     "output_type": "execute_result"
    },
    {
     "data": {
      "image/png": "[encoded data removed]",
      "text/plain": [
       "<Figure size 900x900 with 1 Axes>"
      ]
     },
     "metadata": {},
     "output_type": "display_data"
    }
   ],
   "source": [
    "#sns.kdeplot(df['Age'],shade=True)\n",
    "#df['Age'].plot(kind = 'kde', figsize = (20, 10))-->for normal disrtibution \n",
    "sns.distplot(df['Age'], color='red' , bins=30)"
   ]
  },
  {
   "cell_type": "markdown",
   "id": "1beffffa",
   "metadata": {},
   "source": [
    "# Type of Travel"
   ]
  },
  {
   "cell_type": "code",
   "execution_count": 16,
   "id": "a0324fe6",
   "metadata": {},
   "outputs": [
    {
     "data": {
      "text/plain": [
       "array(['Personal Travel', 'Business travel'], dtype=object)"
      ]
     },
     "execution_count": 16,
     "metadata": {},
     "output_type": "execute_result"
    }
   ],
   "source": [
    "df['Type of Travel'].unique()"
   ]
  },
  {
   "cell_type": "code",
   "execution_count": 17,
   "id": "d160a0cc",
   "metadata": {},
   "outputs": [
    {
     "data": {
      "text/plain": [
       "<AxesSubplot:xlabel='Type of Travel', ylabel='count'>"
      ]
     },
     "execution_count": 17,
     "metadata": {},
     "output_type": "execute_result"
    },
    {
     "data": {
      "image/png": "[encoded data removed]",
      "text/plain": [
       "<Figure size 900x900 with 1 Axes>"
      ]
     },
     "metadata": {},
     "output_type": "display_data"
    }
   ],
   "source": [
    "sns.countplot(x='Type of Travel', data=df, palette='copper')"
   ]
  },
  {
   "cell_type": "markdown",
   "id": "c8af1e2a",
   "metadata": {},
   "source": [
    "# Class"
   ]
  },
  {
   "cell_type": "code",
   "execution_count": 18,
   "id": "2254de11",
   "metadata": {},
   "outputs": [
    {
     "data": {
      "text/plain": [
       "array(['Eco Plus', 'Business', 'Eco'], dtype=object)"
      ]
     },
     "execution_count": 18,
     "metadata": {},
     "output_type": "execute_result"
    }
   ],
   "source": [
    "df['Class'].unique()"
   ]
  },
  {
   "cell_type": "code",
   "execution_count": 19,
   "id": "b88fd850",
   "metadata": {},
   "outputs": [
    {
     "data": {
      "text/plain": [
       "<AxesSubplot:xlabel='Class', ylabel='count'>"
      ]
     },
     "execution_count": 19,
     "metadata": {},
     "output_type": "execute_result"
    },
    {
     "data": {
      "image/png": "[encoded data removed]",
      "text/plain": [
       "<Figure size 900x900 with 1 Axes>"
      ]
     },
     "metadata": {},
     "output_type": "display_data"
    }
   ],
   "source": [
    "sns.countplot(x='Class', data=df, palette='prism_r')"
   ]
  },
  {
   "cell_type": "markdown",
   "id": "f7da5ac7",
   "metadata": {},
   "source": [
    "# Flight Distance"
   ]
  },
  {
   "cell_type": "code",
   "execution_count": 20,
   "id": "ca361ec7",
   "metadata": {},
   "outputs": [
    {
     "data": {
      "text/plain": [
       "count    129880.000000\n",
       "mean       1190.316392\n",
       "std         997.452477\n",
       "min          31.000000\n",
       "25%         414.000000\n",
       "50%         844.000000\n",
       "75%        1744.000000\n",
       "max        4983.000000\n",
       "Name: Flight Distance, dtype: float64"
      ]
     },
     "execution_count": 20,
     "metadata": {},
     "output_type": "execute_result"
    }
   ],
   "source": [
    "df['Flight Distance'].describe()\n"
   ]
  },
  {
   "cell_type": "code",
   "execution_count": 21,
   "id": "19757454",
   "metadata": {},
   "outputs": [
    {
     "name": "stderr",
     "output_type": "stream",
     "text": [
      "C:\\Users\\sarah\\anaconda3\\lib\\site-packages\\seaborn\\distributions.py:2619: FutureWarning: `distplot` is a deprecated function and will be removed in a future version. Please adapt your code to use either `displot` (a figure-level function with similar flexibility) or `histplot` (an axes-level function for histograms).\n",
      "  warnings.warn(msg, FutureWarning)\n"
     ]
    },
    {
     "data": {
      "text/plain": [
       "<AxesSubplot:xlabel='Flight Distance', ylabel='Density'>"
      ]
     },
     "execution_count": 21,
     "metadata": {},
     "output_type": "execute_result"
    },
    {
     "data": {
      "image/png": "[encoded data removed]",
      "text/plain": [
       "<Figure size 900x900 with 1 Axes>"
      ]
     },
     "metadata": {},
     "output_type": "display_data"
    }
   ],
   "source": [
    "#sns.kdeplot(df['Flight Distance'],shade=True)\n",
    "sns.distplot(df['Flight Distance'], color='red' , bins=30)"
   ]
  },
  {
   "cell_type": "code",
   "execution_count": 22,
   "id": "85162b7c",
   "metadata": {},
   "outputs": [
    {
     "data": {
      "text/plain": [
       "<AxesSubplot:xlabel='Flight Distance'>"
      ]
     },
     "execution_count": 22,
     "metadata": {},
     "output_type": "execute_result"
    },
    {
     "data": {
      "image/png": "[encoded data removed]",
      "text/plain": [
       "<Figure size 900x900 with 1 Axes>"
      ]
     },
     "metadata": {},
     "output_type": "display_data"
    }
   ],
   "source": [
    "sns.boxplot(x='Flight Distance', data=df, palette='prism_r')\n",
    "sns.stripplot(x='Flight Distance', data=df, palette='cool_r')"
   ]
  },
  {
   "cell_type": "code",
   "execution_count": 23,
   "id": "31f24a32",
   "metadata": {},
   "outputs": [
    {
     "data": {
      "text/plain": [
       "3739.0"
      ]
     },
     "execution_count": 23,
     "metadata": {},
     "output_type": "execute_result"
    }
   ],
   "source": [
    "q1=df['Flight Distance'].quantile(0.25)\n",
    "q3=df['Flight Distance'].quantile(0.75)\n",
    "q2=q3-q1#iqr\n",
    "min_whisker = q1 - 1.5 * q2\n",
    "max_whisker = q3 + 1.5 * q2\n",
    "max_whisker"
   ]
  },
  {
   "cell_type": "code",
   "execution_count": 24,
   "id": "a049d152",
   "metadata": {},
   "outputs": [],
   "source": [
    "clean=df[df['Flight Distance'].between(min_whisker,max_whisker)]\n",
    "outliers=df[~df['Flight Distance'].between(min_whisker,max_whisker)]\n",
    "\n"
   ]
  },
  {
   "cell_type": "code",
   "execution_count": 25,
   "id": "eb1a0005",
   "metadata": {},
   "outputs": [
    {
     "data": {
      "text/html": [
       "<div>\n",
       "<style scoped>\n",
       "    .dataframe tbody tr th:only-of-type {\n",
       "        vertical-align: middle;\n",
       "    }\n",
       "\n",
       "    .dataframe tbody tr th {\n",
       "        vertical-align: top;\n",
       "    }\n",
       "\n",
       "    .dataframe thead th {\n",
       "        text-align: right;\n",
       "    }\n",
       "</style>\n",
       "<table border=\"1\" class=\"dataframe\">\n",
       "  <thead>\n",
       "    <tr style=\"text-align: right;\">\n",
       "      <th></th>\n",
       "      <th>Gender</th>\n",
       "      <th>Customer Type</th>\n",
       "      <th>Age</th>\n",
       "      <th>Type of Travel</th>\n",
       "      <th>Class</th>\n",
       "      <th>Flight Distance</th>\n",
       "      <th>Inflight wifi service</th>\n",
       "      <th>Departure/Arrival time convenient</th>\n",
       "      <th>Ease of Online booking</th>\n",
       "      <th>Gate location</th>\n",
       "      <th>...</th>\n",
       "      <th>Inflight entertainment</th>\n",
       "      <th>On-board service</th>\n",
       "      <th>Leg room service</th>\n",
       "      <th>Baggage handling</th>\n",
       "      <th>Checkin service</th>\n",
       "      <th>Inflight service</th>\n",
       "      <th>Cleanliness</th>\n",
       "      <th>Departure Delay in Minutes</th>\n",
       "      <th>Arrival Delay in Minutes</th>\n",
       "      <th>satisfaction</th>\n",
       "    </tr>\n",
       "  </thead>\n",
       "  <tbody>\n",
       "    <tr>\n",
       "      <th>0</th>\n",
       "      <td>Male</td>\n",
       "      <td>Loyal Customer</td>\n",
       "      <td>13</td>\n",
       "      <td>Personal Travel</td>\n",
       "      <td>Eco Plus</td>\n",
       "      <td>460</td>\n",
       "      <td>3</td>\n",
       "      <td>4</td>\n",
       "      <td>3</td>\n",
       "      <td>1</td>\n",
       "      <td>...</td>\n",
       "      <td>5</td>\n",
       "      <td>4</td>\n",
       "      <td>3</td>\n",
       "      <td>4</td>\n",
       "      <td>4</td>\n",
       "      <td>5</td>\n",
       "      <td>5</td>\n",
       "      <td>25</td>\n",
       "      <td>18.0</td>\n",
       "      <td>neutral or dissatisfied</td>\n",
       "    </tr>\n",
       "    <tr>\n",
       "      <th>1</th>\n",
       "      <td>Male</td>\n",
       "      <td>disloyal Customer</td>\n",
       "      <td>25</td>\n",
       "      <td>Business travel</td>\n",
       "      <td>Business</td>\n",
       "      <td>235</td>\n",
       "      <td>3</td>\n",
       "      <td>2</td>\n",
       "      <td>3</td>\n",
       "      <td>3</td>\n",
       "      <td>...</td>\n",
       "      <td>1</td>\n",
       "      <td>1</td>\n",
       "      <td>5</td>\n",
       "      <td>3</td>\n",
       "      <td>1</td>\n",
       "      <td>4</td>\n",
       "      <td>1</td>\n",
       "      <td>1</td>\n",
       "      <td>6.0</td>\n",
       "      <td>neutral or dissatisfied</td>\n",
       "    </tr>\n",
       "    <tr>\n",
       "      <th>2</th>\n",
       "      <td>Female</td>\n",
       "      <td>Loyal Customer</td>\n",
       "      <td>26</td>\n",
       "      <td>Business travel</td>\n",
       "      <td>Business</td>\n",
       "      <td>1142</td>\n",
       "      <td>2</td>\n",
       "      <td>2</td>\n",
       "      <td>2</td>\n",
       "      <td>2</td>\n",
       "      <td>...</td>\n",
       "      <td>5</td>\n",
       "      <td>4</td>\n",
       "      <td>3</td>\n",
       "      <td>4</td>\n",
       "      <td>4</td>\n",
       "      <td>4</td>\n",
       "      <td>5</td>\n",
       "      <td>0</td>\n",
       "      <td>0.0</td>\n",
       "      <td>satisfied</td>\n",
       "    </tr>\n",
       "    <tr>\n",
       "      <th>3</th>\n",
       "      <td>Female</td>\n",
       "      <td>Loyal Customer</td>\n",
       "      <td>25</td>\n",
       "      <td>Business travel</td>\n",
       "      <td>Business</td>\n",
       "      <td>562</td>\n",
       "      <td>2</td>\n",
       "      <td>5</td>\n",
       "      <td>5</td>\n",
       "      <td>5</td>\n",
       "      <td>...</td>\n",
       "      <td>2</td>\n",
       "      <td>2</td>\n",
       "      <td>5</td>\n",
       "      <td>3</td>\n",
       "      <td>1</td>\n",
       "      <td>4</td>\n",
       "      <td>2</td>\n",
       "      <td>11</td>\n",
       "      <td>9.0</td>\n",
       "      <td>neutral or dissatisfied</td>\n",
       "    </tr>\n",
       "    <tr>\n",
       "      <th>4</th>\n",
       "      <td>Male</td>\n",
       "      <td>Loyal Customer</td>\n",
       "      <td>61</td>\n",
       "      <td>Business travel</td>\n",
       "      <td>Business</td>\n",
       "      <td>214</td>\n",
       "      <td>3</td>\n",
       "      <td>3</td>\n",
       "      <td>3</td>\n",
       "      <td>3</td>\n",
       "      <td>...</td>\n",
       "      <td>3</td>\n",
       "      <td>3</td>\n",
       "      <td>4</td>\n",
       "      <td>4</td>\n",
       "      <td>3</td>\n",
       "      <td>3</td>\n",
       "      <td>3</td>\n",
       "      <td>0</td>\n",
       "      <td>0.0</td>\n",
       "      <td>satisfied</td>\n",
       "    </tr>\n",
       "    <tr>\n",
       "      <th>...</th>\n",
       "      <td>...</td>\n",
       "      <td>...</td>\n",
       "      <td>...</td>\n",
       "      <td>...</td>\n",
       "      <td>...</td>\n",
       "      <td>...</td>\n",
       "      <td>...</td>\n",
       "      <td>...</td>\n",
       "      <td>...</td>\n",
       "      <td>...</td>\n",
       "      <td>...</td>\n",
       "      <td>...</td>\n",
       "      <td>...</td>\n",
       "      <td>...</td>\n",
       "      <td>...</td>\n",
       "      <td>...</td>\n",
       "      <td>...</td>\n",
       "      <td>...</td>\n",
       "      <td>...</td>\n",
       "      <td>...</td>\n",
       "      <td>...</td>\n",
       "    </tr>\n",
       "    <tr>\n",
       "      <th>25971</th>\n",
       "      <td>Male</td>\n",
       "      <td>disloyal Customer</td>\n",
       "      <td>34</td>\n",
       "      <td>Business travel</td>\n",
       "      <td>Business</td>\n",
       "      <td>526</td>\n",
       "      <td>3</td>\n",
       "      <td>3</td>\n",
       "      <td>3</td>\n",
       "      <td>1</td>\n",
       "      <td>...</td>\n",
       "      <td>4</td>\n",
       "      <td>3</td>\n",
       "      <td>2</td>\n",
       "      <td>4</td>\n",
       "      <td>4</td>\n",
       "      <td>5</td>\n",
       "      <td>4</td>\n",
       "      <td>0</td>\n",
       "      <td>0.0</td>\n",
       "      <td>neutral or dissatisfied</td>\n",
       "    </tr>\n",
       "    <tr>\n",
       "      <th>25972</th>\n",
       "      <td>Male</td>\n",
       "      <td>Loyal Customer</td>\n",
       "      <td>23</td>\n",
       "      <td>Business travel</td>\n",
       "      <td>Business</td>\n",
       "      <td>646</td>\n",
       "      <td>4</td>\n",
       "      <td>4</td>\n",
       "      <td>4</td>\n",
       "      <td>4</td>\n",
       "      <td>...</td>\n",
       "      <td>4</td>\n",
       "      <td>4</td>\n",
       "      <td>5</td>\n",
       "      <td>5</td>\n",
       "      <td>5</td>\n",
       "      <td>5</td>\n",
       "      <td>4</td>\n",
       "      <td>0</td>\n",
       "      <td>0.0</td>\n",
       "      <td>satisfied</td>\n",
       "    </tr>\n",
       "    <tr>\n",
       "      <th>25973</th>\n",
       "      <td>Female</td>\n",
       "      <td>Loyal Customer</td>\n",
       "      <td>17</td>\n",
       "      <td>Personal Travel</td>\n",
       "      <td>Eco</td>\n",
       "      <td>828</td>\n",
       "      <td>2</td>\n",
       "      <td>5</td>\n",
       "      <td>1</td>\n",
       "      <td>5</td>\n",
       "      <td>...</td>\n",
       "      <td>2</td>\n",
       "      <td>4</td>\n",
       "      <td>3</td>\n",
       "      <td>4</td>\n",
       "      <td>5</td>\n",
       "      <td>4</td>\n",
       "      <td>2</td>\n",
       "      <td>0</td>\n",
       "      <td>0.0</td>\n",
       "      <td>neutral or dissatisfied</td>\n",
       "    </tr>\n",
       "    <tr>\n",
       "      <th>25974</th>\n",
       "      <td>Male</td>\n",
       "      <td>Loyal Customer</td>\n",
       "      <td>14</td>\n",
       "      <td>Business travel</td>\n",
       "      <td>Business</td>\n",
       "      <td>1127</td>\n",
       "      <td>3</td>\n",
       "      <td>3</td>\n",
       "      <td>3</td>\n",
       "      <td>3</td>\n",
       "      <td>...</td>\n",
       "      <td>4</td>\n",
       "      <td>3</td>\n",
       "      <td>2</td>\n",
       "      <td>5</td>\n",
       "      <td>4</td>\n",
       "      <td>5</td>\n",
       "      <td>4</td>\n",
       "      <td>0</td>\n",
       "      <td>0.0</td>\n",
       "      <td>satisfied</td>\n",
       "    </tr>\n",
       "    <tr>\n",
       "      <th>25975</th>\n",
       "      <td>Female</td>\n",
       "      <td>Loyal Customer</td>\n",
       "      <td>42</td>\n",
       "      <td>Personal Travel</td>\n",
       "      <td>Eco</td>\n",
       "      <td>264</td>\n",
       "      <td>2</td>\n",
       "      <td>5</td>\n",
       "      <td>2</td>\n",
       "      <td>5</td>\n",
       "      <td>...</td>\n",
       "      <td>1</td>\n",
       "      <td>1</td>\n",
       "      <td>2</td>\n",
       "      <td>1</td>\n",
       "      <td>1</td>\n",
       "      <td>1</td>\n",
       "      <td>1</td>\n",
       "      <td>0</td>\n",
       "      <td>0.0</td>\n",
       "      <td>neutral or dissatisfied</td>\n",
       "    </tr>\n",
       "  </tbody>\n",
       "</table>\n",
       "<p>127025 rows × 23 columns</p>\n",
       "</div>"
      ],
      "text/plain": [
       "       Gender      Customer Type  Age   Type of Travel     Class  \\\n",
       "0        Male     Loyal Customer   13  Personal Travel  Eco Plus   \n",
       "1        Male  disloyal Customer   25  Business travel  Business   \n",
       "2      Female     Loyal Customer   26  Business travel  Business   \n",
       "3      Female     Loyal Customer   25  Business travel  Business   \n",
       "4        Male     Loyal Customer   61  Business travel  Business   \n",
       "...       ...                ...  ...              ...       ...   \n",
       "25971    Male  disloyal Customer   34  Business travel  Business   \n",
       "25972    Male     Loyal Customer   23  Business travel  Business   \n",
       "25973  Female     Loyal Customer   17  Personal Travel       Eco   \n",
       "25974    Male     Loyal Customer   14  Business travel  Business   \n",
       "25975  Female     Loyal Customer   42  Personal Travel       Eco   \n",
       "\n",
       "       Flight Distance  Inflight wifi service  \\\n",
       "0                  460                      3   \n",
       "1                  235                      3   \n",
       "2                 1142                      2   \n",
       "3                  562                      2   \n",
       "4                  214                      3   \n",
       "...                ...                    ...   \n",
       "25971              526                      3   \n",
       "25972              646                      4   \n",
       "25973              828                      2   \n",
       "25974             1127                      3   \n",
       "25975              264                      2   \n",
       "\n",
       "       Departure/Arrival time convenient  Ease of Online booking  \\\n",
       "0                                      4                       3   \n",
       "1                                      2                       3   \n",
       "2                                      2                       2   \n",
       "3                                      5                       5   \n",
       "4                                      3                       3   \n",
       "...                                  ...                     ...   \n",
       "25971                                  3                       3   \n",
       "25972                                  4                       4   \n",
       "25973                                  5                       1   \n",
       "25974                                  3                       3   \n",
       "25975                                  5                       2   \n",
       "\n",
       "       Gate location  ...  Inflight entertainment  On-board service  \\\n",
       "0                  1  ...                       5                 4   \n",
       "1                  3  ...                       1                 1   \n",
       "2                  2  ...                       5                 4   \n",
       "3                  5  ...                       2                 2   \n",
       "4                  3  ...                       3                 3   \n",
       "...              ...  ...                     ...               ...   \n",
       "25971              1  ...                       4                 3   \n",
       "25972              4  ...                       4                 4   \n",
       "25973              5  ...                       2                 4   \n",
       "25974              3  ...                       4                 3   \n",
       "25975              5  ...                       1                 1   \n",
       "\n",
       "       Leg room service  Baggage handling  Checkin service  Inflight service  \\\n",
       "0                     3                 4                4                 5   \n",
       "1                     5                 3                1                 4   \n",
       "2                     3                 4                4                 4   \n",
       "3                     5                 3                1                 4   \n",
       "4                     4                 4                3                 3   \n",
       "...                 ...               ...              ...               ...   \n",
       "25971                 2                 4                4                 5   \n",
       "25972                 5                 5                5                 5   \n",
       "25973                 3                 4                5                 4   \n",
       "25974                 2                 5                4                 5   \n",
       "25975                 2                 1                1                 1   \n",
       "\n",
       "       Cleanliness  Departure Delay in Minutes  Arrival Delay in Minutes  \\\n",
       "0                5                          25                      18.0   \n",
       "1                1                           1                       6.0   \n",
       "2                5                           0                       0.0   \n",
       "3                2                          11                       9.0   \n",
       "4                3                           0                       0.0   \n",
       "...            ...                         ...                       ...   \n",
       "25971            4                           0                       0.0   \n",
       "25972            4                           0                       0.0   \n",
       "25973            2                           0                       0.0   \n",
       "25974            4                           0                       0.0   \n",
       "25975            1                           0                       0.0   \n",
       "\n",
       "                  satisfaction  \n",
       "0      neutral or dissatisfied  \n",
       "1      neutral or dissatisfied  \n",
       "2                    satisfied  \n",
       "3      neutral or dissatisfied  \n",
       "4                    satisfied  \n",
       "...                        ...  \n",
       "25971  neutral or dissatisfied  \n",
       "25972                satisfied  \n",
       "25973  neutral or dissatisfied  \n",
       "25974                satisfied  \n",
       "25975  neutral or dissatisfied  \n",
       "\n",
       "[127025 rows x 23 columns]"
      ]
     },
     "execution_count": 25,
     "metadata": {},
     "output_type": "execute_result"
    }
   ],
   "source": [
    "clean"
   ]
  },
  {
   "cell_type": "code",
   "execution_count": 26,
   "id": "64f9100f",
   "metadata": {},
   "outputs": [
    {
     "data": {
      "text/html": [
       "<div>\n",
       "<style scoped>\n",
       "    .dataframe tbody tr th:only-of-type {\n",
       "        vertical-align: middle;\n",
       "    }\n",
       "\n",
       "    .dataframe tbody tr th {\n",
       "        vertical-align: top;\n",
       "    }\n",
       "\n",
       "    .dataframe thead th {\n",
       "        text-align: right;\n",
       "    }\n",
       "</style>\n",
       "<table border=\"1\" class=\"dataframe\">\n",
       "  <thead>\n",
       "    <tr style=\"text-align: right;\">\n",
       "      <th></th>\n",
       "      <th>Gender</th>\n",
       "      <th>Customer Type</th>\n",
       "      <th>Age</th>\n",
       "      <th>Type of Travel</th>\n",
       "      <th>Class</th>\n",
       "      <th>Flight Distance</th>\n",
       "      <th>Inflight wifi service</th>\n",
       "      <th>Departure/Arrival time convenient</th>\n",
       "      <th>Ease of Online booking</th>\n",
       "      <th>Gate location</th>\n",
       "      <th>...</th>\n",
       "      <th>Inflight entertainment</th>\n",
       "      <th>On-board service</th>\n",
       "      <th>Leg room service</th>\n",
       "      <th>Baggage handling</th>\n",
       "      <th>Checkin service</th>\n",
       "      <th>Inflight service</th>\n",
       "      <th>Cleanliness</th>\n",
       "      <th>Departure Delay in Minutes</th>\n",
       "      <th>Arrival Delay in Minutes</th>\n",
       "      <th>satisfaction</th>\n",
       "    </tr>\n",
       "  </thead>\n",
       "  <tbody>\n",
       "    <tr>\n",
       "      <th>80</th>\n",
       "      <td>Male</td>\n",
       "      <td>Loyal Customer</td>\n",
       "      <td>26</td>\n",
       "      <td>Business travel</td>\n",
       "      <td>Business</td>\n",
       "      <td>3960</td>\n",
       "      <td>1</td>\n",
       "      <td>1</td>\n",
       "      <td>1</td>\n",
       "      <td>1</td>\n",
       "      <td>...</td>\n",
       "      <td>4</td>\n",
       "      <td>4</td>\n",
       "      <td>2</td>\n",
       "      <td>5</td>\n",
       "      <td>4</td>\n",
       "      <td>4</td>\n",
       "      <td>4</td>\n",
       "      <td>45</td>\n",
       "      <td>48.0</td>\n",
       "      <td>satisfied</td>\n",
       "    </tr>\n",
       "    <tr>\n",
       "      <th>173</th>\n",
       "      <td>Male</td>\n",
       "      <td>Loyal Customer</td>\n",
       "      <td>52</td>\n",
       "      <td>Business travel</td>\n",
       "      <td>Business</td>\n",
       "      <td>3747</td>\n",
       "      <td>5</td>\n",
       "      <td>5</td>\n",
       "      <td>5</td>\n",
       "      <td>5</td>\n",
       "      <td>...</td>\n",
       "      <td>4</td>\n",
       "      <td>4</td>\n",
       "      <td>4</td>\n",
       "      <td>4</td>\n",
       "      <td>5</td>\n",
       "      <td>4</td>\n",
       "      <td>5</td>\n",
       "      <td>24</td>\n",
       "      <td>20.0</td>\n",
       "      <td>satisfied</td>\n",
       "    </tr>\n",
       "    <tr>\n",
       "      <th>201</th>\n",
       "      <td>Female</td>\n",
       "      <td>Loyal Customer</td>\n",
       "      <td>43</td>\n",
       "      <td>Business travel</td>\n",
       "      <td>Business</td>\n",
       "      <td>3854</td>\n",
       "      <td>5</td>\n",
       "      <td>5</td>\n",
       "      <td>5</td>\n",
       "      <td>5</td>\n",
       "      <td>...</td>\n",
       "      <td>5</td>\n",
       "      <td>5</td>\n",
       "      <td>5</td>\n",
       "      <td>5</td>\n",
       "      <td>5</td>\n",
       "      <td>5</td>\n",
       "      <td>3</td>\n",
       "      <td>0</td>\n",
       "      <td>0.0</td>\n",
       "      <td>satisfied</td>\n",
       "    </tr>\n",
       "    <tr>\n",
       "      <th>215</th>\n",
       "      <td>Female</td>\n",
       "      <td>Loyal Customer</td>\n",
       "      <td>38</td>\n",
       "      <td>Business travel</td>\n",
       "      <td>Business</td>\n",
       "      <td>3753</td>\n",
       "      <td>2</td>\n",
       "      <td>2</td>\n",
       "      <td>2</td>\n",
       "      <td>2</td>\n",
       "      <td>...</td>\n",
       "      <td>4</td>\n",
       "      <td>4</td>\n",
       "      <td>4</td>\n",
       "      <td>4</td>\n",
       "      <td>4</td>\n",
       "      <td>4</td>\n",
       "      <td>1</td>\n",
       "      <td>0</td>\n",
       "      <td>0.0</td>\n",
       "      <td>satisfied</td>\n",
       "    </tr>\n",
       "    <tr>\n",
       "      <th>379</th>\n",
       "      <td>Male</td>\n",
       "      <td>Loyal Customer</td>\n",
       "      <td>46</td>\n",
       "      <td>Business travel</td>\n",
       "      <td>Business</td>\n",
       "      <td>3995</td>\n",
       "      <td>4</td>\n",
       "      <td>4</td>\n",
       "      <td>4</td>\n",
       "      <td>4</td>\n",
       "      <td>...</td>\n",
       "      <td>5</td>\n",
       "      <td>5</td>\n",
       "      <td>5</td>\n",
       "      <td>5</td>\n",
       "      <td>5</td>\n",
       "      <td>5</td>\n",
       "      <td>4</td>\n",
       "      <td>0</td>\n",
       "      <td>0.0</td>\n",
       "      <td>satisfied</td>\n",
       "    </tr>\n",
       "    <tr>\n",
       "      <th>...</th>\n",
       "      <td>...</td>\n",
       "      <td>...</td>\n",
       "      <td>...</td>\n",
       "      <td>...</td>\n",
       "      <td>...</td>\n",
       "      <td>...</td>\n",
       "      <td>...</td>\n",
       "      <td>...</td>\n",
       "      <td>...</td>\n",
       "      <td>...</td>\n",
       "      <td>...</td>\n",
       "      <td>...</td>\n",
       "      <td>...</td>\n",
       "      <td>...</td>\n",
       "      <td>...</td>\n",
       "      <td>...</td>\n",
       "      <td>...</td>\n",
       "      <td>...</td>\n",
       "      <td>...</td>\n",
       "      <td>...</td>\n",
       "      <td>...</td>\n",
       "    </tr>\n",
       "    <tr>\n",
       "      <th>25704</th>\n",
       "      <td>Male</td>\n",
       "      <td>Loyal Customer</td>\n",
       "      <td>49</td>\n",
       "      <td>Business travel</td>\n",
       "      <td>Business</td>\n",
       "      <td>4963</td>\n",
       "      <td>1</td>\n",
       "      <td>1</td>\n",
       "      <td>1</td>\n",
       "      <td>1</td>\n",
       "      <td>...</td>\n",
       "      <td>4</td>\n",
       "      <td>4</td>\n",
       "      <td>3</td>\n",
       "      <td>4</td>\n",
       "      <td>4</td>\n",
       "      <td>4</td>\n",
       "      <td>4</td>\n",
       "      <td>23</td>\n",
       "      <td>0.0</td>\n",
       "      <td>satisfied</td>\n",
       "    </tr>\n",
       "    <tr>\n",
       "      <th>25796</th>\n",
       "      <td>Female</td>\n",
       "      <td>Loyal Customer</td>\n",
       "      <td>29</td>\n",
       "      <td>Business travel</td>\n",
       "      <td>Business</td>\n",
       "      <td>3840</td>\n",
       "      <td>3</td>\n",
       "      <td>3</td>\n",
       "      <td>3</td>\n",
       "      <td>3</td>\n",
       "      <td>...</td>\n",
       "      <td>5</td>\n",
       "      <td>3</td>\n",
       "      <td>3</td>\n",
       "      <td>4</td>\n",
       "      <td>3</td>\n",
       "      <td>1</td>\n",
       "      <td>5</td>\n",
       "      <td>0</td>\n",
       "      <td>0.0</td>\n",
       "      <td>satisfied</td>\n",
       "    </tr>\n",
       "    <tr>\n",
       "      <th>25874</th>\n",
       "      <td>Female</td>\n",
       "      <td>Loyal Customer</td>\n",
       "      <td>51</td>\n",
       "      <td>Business travel</td>\n",
       "      <td>Business</td>\n",
       "      <td>3904</td>\n",
       "      <td>4</td>\n",
       "      <td>4</td>\n",
       "      <td>4</td>\n",
       "      <td>4</td>\n",
       "      <td>...</td>\n",
       "      <td>4</td>\n",
       "      <td>4</td>\n",
       "      <td>4</td>\n",
       "      <td>4</td>\n",
       "      <td>4</td>\n",
       "      <td>4</td>\n",
       "      <td>4</td>\n",
       "      <td>0</td>\n",
       "      <td>0.0</td>\n",
       "      <td>satisfied</td>\n",
       "    </tr>\n",
       "    <tr>\n",
       "      <th>25891</th>\n",
       "      <td>Male</td>\n",
       "      <td>Loyal Customer</td>\n",
       "      <td>44</td>\n",
       "      <td>Business travel</td>\n",
       "      <td>Business</td>\n",
       "      <td>3857</td>\n",
       "      <td>1</td>\n",
       "      <td>1</td>\n",
       "      <td>1</td>\n",
       "      <td>1</td>\n",
       "      <td>...</td>\n",
       "      <td>4</td>\n",
       "      <td>4</td>\n",
       "      <td>4</td>\n",
       "      <td>4</td>\n",
       "      <td>3</td>\n",
       "      <td>4</td>\n",
       "      <td>4</td>\n",
       "      <td>0</td>\n",
       "      <td>5.0</td>\n",
       "      <td>satisfied</td>\n",
       "    </tr>\n",
       "    <tr>\n",
       "      <th>25939</th>\n",
       "      <td>Female</td>\n",
       "      <td>Loyal Customer</td>\n",
       "      <td>42</td>\n",
       "      <td>Business travel</td>\n",
       "      <td>Business</td>\n",
       "      <td>3855</td>\n",
       "      <td>1</td>\n",
       "      <td>1</td>\n",
       "      <td>1</td>\n",
       "      <td>1</td>\n",
       "      <td>...</td>\n",
       "      <td>4</td>\n",
       "      <td>4</td>\n",
       "      <td>4</td>\n",
       "      <td>4</td>\n",
       "      <td>1</td>\n",
       "      <td>4</td>\n",
       "      <td>5</td>\n",
       "      <td>0</td>\n",
       "      <td>0.0</td>\n",
       "      <td>satisfied</td>\n",
       "    </tr>\n",
       "  </tbody>\n",
       "</table>\n",
       "<p>2855 rows × 23 columns</p>\n",
       "</div>"
      ],
      "text/plain": [
       "       Gender   Customer Type  Age   Type of Travel     Class  \\\n",
       "80       Male  Loyal Customer   26  Business travel  Business   \n",
       "173      Male  Loyal Customer   52  Business travel  Business   \n",
       "201    Female  Loyal Customer   43  Business travel  Business   \n",
       "215    Female  Loyal Customer   38  Business travel  Business   \n",
       "379      Male  Loyal Customer   46  Business travel  Business   \n",
       "...       ...             ...  ...              ...       ...   \n",
       "25704    Male  Loyal Customer   49  Business travel  Business   \n",
       "25796  Female  Loyal Customer   29  Business travel  Business   \n",
       "25874  Female  Loyal Customer   51  Business travel  Business   \n",
       "25891    Male  Loyal Customer   44  Business travel  Business   \n",
       "25939  Female  Loyal Customer   42  Business travel  Business   \n",
       "\n",
       "       Flight Distance  Inflight wifi service  \\\n",
       "80                3960                      1   \n",
       "173               3747                      5   \n",
       "201               3854                      5   \n",
       "215               3753                      2   \n",
       "379               3995                      4   \n",
       "...                ...                    ...   \n",
       "25704             4963                      1   \n",
       "25796             3840                      3   \n",
       "25874             3904                      4   \n",
       "25891             3857                      1   \n",
       "25939             3855                      1   \n",
       "\n",
       "       Departure/Arrival time convenient  Ease of Online booking  \\\n",
       "80                                     1                       1   \n",
       "173                                    5                       5   \n",
       "201                                    5                       5   \n",
       "215                                    2                       2   \n",
       "379                                    4                       4   \n",
       "...                                  ...                     ...   \n",
       "25704                                  1                       1   \n",
       "25796                                  3                       3   \n",
       "25874                                  4                       4   \n",
       "25891                                  1                       1   \n",
       "25939                                  1                       1   \n",
       "\n",
       "       Gate location  ...  Inflight entertainment  On-board service  \\\n",
       "80                 1  ...                       4                 4   \n",
       "173                5  ...                       4                 4   \n",
       "201                5  ...                       5                 5   \n",
       "215                2  ...                       4                 4   \n",
       "379                4  ...                       5                 5   \n",
       "...              ...  ...                     ...               ...   \n",
       "25704              1  ...                       4                 4   \n",
       "25796              3  ...                       5                 3   \n",
       "25874              4  ...                       4                 4   \n",
       "25891              1  ...                       4                 4   \n",
       "25939              1  ...                       4                 4   \n",
       "\n",
       "       Leg room service  Baggage handling  Checkin service  Inflight service  \\\n",
       "80                    2                 5                4                 4   \n",
       "173                   4                 4                5                 4   \n",
       "201                   5                 5                5                 5   \n",
       "215                   4                 4                4                 4   \n",
       "379                   5                 5                5                 5   \n",
       "...                 ...               ...              ...               ...   \n",
       "25704                 3                 4                4                 4   \n",
       "25796                 3                 4                3                 1   \n",
       "25874                 4                 4                4                 4   \n",
       "25891                 4                 4                3                 4   \n",
       "25939                 4                 4                1                 4   \n",
       "\n",
       "       Cleanliness  Departure Delay in Minutes  Arrival Delay in Minutes  \\\n",
       "80               4                          45                      48.0   \n",
       "173              5                          24                      20.0   \n",
       "201              3                           0                       0.0   \n",
       "215              1                           0                       0.0   \n",
       "379              4                           0                       0.0   \n",
       "...            ...                         ...                       ...   \n",
       "25704            4                          23                       0.0   \n",
       "25796            5                           0                       0.0   \n",
       "25874            4                           0                       0.0   \n",
       "25891            4                           0                       5.0   \n",
       "25939            5                           0                       0.0   \n",
       "\n",
       "       satisfaction  \n",
       "80        satisfied  \n",
       "173       satisfied  \n",
       "201       satisfied  \n",
       "215       satisfied  \n",
       "379       satisfied  \n",
       "...             ...  \n",
       "25704     satisfied  \n",
       "25796     satisfied  \n",
       "25874     satisfied  \n",
       "25891     satisfied  \n",
       "25939     satisfied  \n",
       "\n",
       "[2855 rows x 23 columns]"
      ]
     },
     "execution_count": 26,
     "metadata": {},
     "output_type": "execute_result"
    }
   ],
   "source": [
    "outliers"
   ]
  },
  {
   "cell_type": "code",
   "execution_count": 27,
   "id": "cd8bccd4",
   "metadata": {},
   "outputs": [
    {
     "data": {
      "text/plain": [
       "<AxesSubplot:xlabel='Flight Distance'>"
      ]
     },
     "execution_count": 27,
     "metadata": {},
     "output_type": "execute_result"
    },
    {
     "data": {
      "image/png": "[encoded data removed]",
      "text/plain": [
       "<Figure size 900x900 with 1 Axes>"
      ]
     },
     "metadata": {},
     "output_type": "display_data"
    }
   ],
   "source": [
    "sns.boxplot(x='Flight Distance', data=clean, palette='prism_r')\n",
    "sns.stripplot(x='Flight Distance', data=clean, palette='cool_r')"
   ]
  },
  {
   "cell_type": "code",
   "execution_count": 28,
   "id": "4076958d",
   "metadata": {},
   "outputs": [
    {
     "data": {
      "text/html": [
       "<div>\n",
       "<style scoped>\n",
       "    .dataframe tbody tr th:only-of-type {\n",
       "        vertical-align: middle;\n",
       "    }\n",
       "\n",
       "    .dataframe tbody tr th {\n",
       "        vertical-align: top;\n",
       "    }\n",
       "\n",
       "    .dataframe thead th {\n",
       "        text-align: right;\n",
       "    }\n",
       "</style>\n",
       "<table border=\"1\" class=\"dataframe\">\n",
       "  <thead>\n",
       "    <tr style=\"text-align: right;\">\n",
       "      <th></th>\n",
       "      <th>Gender</th>\n",
       "      <th>Customer Type</th>\n",
       "      <th>Age</th>\n",
       "      <th>Type of Travel</th>\n",
       "      <th>Class</th>\n",
       "      <th>Flight Distance</th>\n",
       "      <th>Inflight wifi service</th>\n",
       "      <th>Departure/Arrival time convenient</th>\n",
       "      <th>Ease of Online booking</th>\n",
       "      <th>Gate location</th>\n",
       "      <th>...</th>\n",
       "      <th>Inflight entertainment</th>\n",
       "      <th>On-board service</th>\n",
       "      <th>Leg room service</th>\n",
       "      <th>Baggage handling</th>\n",
       "      <th>Checkin service</th>\n",
       "      <th>Inflight service</th>\n",
       "      <th>Cleanliness</th>\n",
       "      <th>Departure Delay in Minutes</th>\n",
       "      <th>Arrival Delay in Minutes</th>\n",
       "      <th>satisfaction</th>\n",
       "    </tr>\n",
       "  </thead>\n",
       "  <tbody>\n",
       "    <tr>\n",
       "      <th>0</th>\n",
       "      <td>Male</td>\n",
       "      <td>Loyal Customer</td>\n",
       "      <td>13</td>\n",
       "      <td>Personal Travel</td>\n",
       "      <td>Eco Plus</td>\n",
       "      <td>460</td>\n",
       "      <td>3</td>\n",
       "      <td>4</td>\n",
       "      <td>3</td>\n",
       "      <td>1</td>\n",
       "      <td>...</td>\n",
       "      <td>5</td>\n",
       "      <td>4</td>\n",
       "      <td>3</td>\n",
       "      <td>4</td>\n",
       "      <td>4</td>\n",
       "      <td>5</td>\n",
       "      <td>5</td>\n",
       "      <td>25</td>\n",
       "      <td>18.0</td>\n",
       "      <td>neutral or dissatisfied</td>\n",
       "    </tr>\n",
       "    <tr>\n",
       "      <th>1</th>\n",
       "      <td>Male</td>\n",
       "      <td>disloyal Customer</td>\n",
       "      <td>25</td>\n",
       "      <td>Business travel</td>\n",
       "      <td>Business</td>\n",
       "      <td>235</td>\n",
       "      <td>3</td>\n",
       "      <td>2</td>\n",
       "      <td>3</td>\n",
       "      <td>3</td>\n",
       "      <td>...</td>\n",
       "      <td>1</td>\n",
       "      <td>1</td>\n",
       "      <td>5</td>\n",
       "      <td>3</td>\n",
       "      <td>1</td>\n",
       "      <td>4</td>\n",
       "      <td>1</td>\n",
       "      <td>1</td>\n",
       "      <td>6.0</td>\n",
       "      <td>neutral or dissatisfied</td>\n",
       "    </tr>\n",
       "    <tr>\n",
       "      <th>2</th>\n",
       "      <td>Female</td>\n",
       "      <td>Loyal Customer</td>\n",
       "      <td>26</td>\n",
       "      <td>Business travel</td>\n",
       "      <td>Business</td>\n",
       "      <td>1142</td>\n",
       "      <td>2</td>\n",
       "      <td>2</td>\n",
       "      <td>2</td>\n",
       "      <td>2</td>\n",
       "      <td>...</td>\n",
       "      <td>5</td>\n",
       "      <td>4</td>\n",
       "      <td>3</td>\n",
       "      <td>4</td>\n",
       "      <td>4</td>\n",
       "      <td>4</td>\n",
       "      <td>5</td>\n",
       "      <td>0</td>\n",
       "      <td>0.0</td>\n",
       "      <td>satisfied</td>\n",
       "    </tr>\n",
       "    <tr>\n",
       "      <th>3</th>\n",
       "      <td>Female</td>\n",
       "      <td>Loyal Customer</td>\n",
       "      <td>25</td>\n",
       "      <td>Business travel</td>\n",
       "      <td>Business</td>\n",
       "      <td>562</td>\n",
       "      <td>2</td>\n",
       "      <td>5</td>\n",
       "      <td>5</td>\n",
       "      <td>5</td>\n",
       "      <td>...</td>\n",
       "      <td>2</td>\n",
       "      <td>2</td>\n",
       "      <td>5</td>\n",
       "      <td>3</td>\n",
       "      <td>1</td>\n",
       "      <td>4</td>\n",
       "      <td>2</td>\n",
       "      <td>11</td>\n",
       "      <td>9.0</td>\n",
       "      <td>neutral or dissatisfied</td>\n",
       "    </tr>\n",
       "    <tr>\n",
       "      <th>4</th>\n",
       "      <td>Male</td>\n",
       "      <td>Loyal Customer</td>\n",
       "      <td>61</td>\n",
       "      <td>Business travel</td>\n",
       "      <td>Business</td>\n",
       "      <td>214</td>\n",
       "      <td>3</td>\n",
       "      <td>3</td>\n",
       "      <td>3</td>\n",
       "      <td>3</td>\n",
       "      <td>...</td>\n",
       "      <td>3</td>\n",
       "      <td>3</td>\n",
       "      <td>4</td>\n",
       "      <td>4</td>\n",
       "      <td>3</td>\n",
       "      <td>3</td>\n",
       "      <td>3</td>\n",
       "      <td>0</td>\n",
       "      <td>0.0</td>\n",
       "      <td>satisfied</td>\n",
       "    </tr>\n",
       "    <tr>\n",
       "      <th>...</th>\n",
       "      <td>...</td>\n",
       "      <td>...</td>\n",
       "      <td>...</td>\n",
       "      <td>...</td>\n",
       "      <td>...</td>\n",
       "      <td>...</td>\n",
       "      <td>...</td>\n",
       "      <td>...</td>\n",
       "      <td>...</td>\n",
       "      <td>...</td>\n",
       "      <td>...</td>\n",
       "      <td>...</td>\n",
       "      <td>...</td>\n",
       "      <td>...</td>\n",
       "      <td>...</td>\n",
       "      <td>...</td>\n",
       "      <td>...</td>\n",
       "      <td>...</td>\n",
       "      <td>...</td>\n",
       "      <td>...</td>\n",
       "      <td>...</td>\n",
       "    </tr>\n",
       "    <tr>\n",
       "      <th>25971</th>\n",
       "      <td>Male</td>\n",
       "      <td>disloyal Customer</td>\n",
       "      <td>34</td>\n",
       "      <td>Business travel</td>\n",
       "      <td>Business</td>\n",
       "      <td>526</td>\n",
       "      <td>3</td>\n",
       "      <td>3</td>\n",
       "      <td>3</td>\n",
       "      <td>1</td>\n",
       "      <td>...</td>\n",
       "      <td>4</td>\n",
       "      <td>3</td>\n",
       "      <td>2</td>\n",
       "      <td>4</td>\n",
       "      <td>4</td>\n",
       "      <td>5</td>\n",
       "      <td>4</td>\n",
       "      <td>0</td>\n",
       "      <td>0.0</td>\n",
       "      <td>neutral or dissatisfied</td>\n",
       "    </tr>\n",
       "    <tr>\n",
       "      <th>25972</th>\n",
       "      <td>Male</td>\n",
       "      <td>Loyal Customer</td>\n",
       "      <td>23</td>\n",
       "      <td>Business travel</td>\n",
       "      <td>Business</td>\n",
       "      <td>646</td>\n",
       "      <td>4</td>\n",
       "      <td>4</td>\n",
       "      <td>4</td>\n",
       "      <td>4</td>\n",
       "      <td>...</td>\n",
       "      <td>4</td>\n",
       "      <td>4</td>\n",
       "      <td>5</td>\n",
       "      <td>5</td>\n",
       "      <td>5</td>\n",
       "      <td>5</td>\n",
       "      <td>4</td>\n",
       "      <td>0</td>\n",
       "      <td>0.0</td>\n",
       "      <td>satisfied</td>\n",
       "    </tr>\n",
       "    <tr>\n",
       "      <th>25973</th>\n",
       "      <td>Female</td>\n",
       "      <td>Loyal Customer</td>\n",
       "      <td>17</td>\n",
       "      <td>Personal Travel</td>\n",
       "      <td>Eco</td>\n",
       "      <td>828</td>\n",
       "      <td>2</td>\n",
       "      <td>5</td>\n",
       "      <td>1</td>\n",
       "      <td>5</td>\n",
       "      <td>...</td>\n",
       "      <td>2</td>\n",
       "      <td>4</td>\n",
       "      <td>3</td>\n",
       "      <td>4</td>\n",
       "      <td>5</td>\n",
       "      <td>4</td>\n",
       "      <td>2</td>\n",
       "      <td>0</td>\n",
       "      <td>0.0</td>\n",
       "      <td>neutral or dissatisfied</td>\n",
       "    </tr>\n",
       "    <tr>\n",
       "      <th>25974</th>\n",
       "      <td>Male</td>\n",
       "      <td>Loyal Customer</td>\n",
       "      <td>14</td>\n",
       "      <td>Business travel</td>\n",
       "      <td>Business</td>\n",
       "      <td>1127</td>\n",
       "      <td>3</td>\n",
       "      <td>3</td>\n",
       "      <td>3</td>\n",
       "      <td>3</td>\n",
       "      <td>...</td>\n",
       "      <td>4</td>\n",
       "      <td>3</td>\n",
       "      <td>2</td>\n",
       "      <td>5</td>\n",
       "      <td>4</td>\n",
       "      <td>5</td>\n",
       "      <td>4</td>\n",
       "      <td>0</td>\n",
       "      <td>0.0</td>\n",
       "      <td>satisfied</td>\n",
       "    </tr>\n",
       "    <tr>\n",
       "      <th>25975</th>\n",
       "      <td>Female</td>\n",
       "      <td>Loyal Customer</td>\n",
       "      <td>42</td>\n",
       "      <td>Personal Travel</td>\n",
       "      <td>Eco</td>\n",
       "      <td>264</td>\n",
       "      <td>2</td>\n",
       "      <td>5</td>\n",
       "      <td>2</td>\n",
       "      <td>5</td>\n",
       "      <td>...</td>\n",
       "      <td>1</td>\n",
       "      <td>1</td>\n",
       "      <td>2</td>\n",
       "      <td>1</td>\n",
       "      <td>1</td>\n",
       "      <td>1</td>\n",
       "      <td>1</td>\n",
       "      <td>0</td>\n",
       "      <td>0.0</td>\n",
       "      <td>neutral or dissatisfied</td>\n",
       "    </tr>\n",
       "  </tbody>\n",
       "</table>\n",
       "<p>125899 rows × 23 columns</p>\n",
       "</div>"
      ],
      "text/plain": [
       "       Gender      Customer Type  Age   Type of Travel     Class  \\\n",
       "0        Male     Loyal Customer   13  Personal Travel  Eco Plus   \n",
       "1        Male  disloyal Customer   25  Business travel  Business   \n",
       "2      Female     Loyal Customer   26  Business travel  Business   \n",
       "3      Female     Loyal Customer   25  Business travel  Business   \n",
       "4        Male     Loyal Customer   61  Business travel  Business   \n",
       "...       ...                ...  ...              ...       ...   \n",
       "25971    Male  disloyal Customer   34  Business travel  Business   \n",
       "25972    Male     Loyal Customer   23  Business travel  Business   \n",
       "25973  Female     Loyal Customer   17  Personal Travel       Eco   \n",
       "25974    Male     Loyal Customer   14  Business travel  Business   \n",
       "25975  Female     Loyal Customer   42  Personal Travel       Eco   \n",
       "\n",
       "       Flight Distance  Inflight wifi service  \\\n",
       "0                  460                      3   \n",
       "1                  235                      3   \n",
       "2                 1142                      2   \n",
       "3                  562                      2   \n",
       "4                  214                      3   \n",
       "...                ...                    ...   \n",
       "25971              526                      3   \n",
       "25972              646                      4   \n",
       "25973              828                      2   \n",
       "25974             1127                      3   \n",
       "25975              264                      2   \n",
       "\n",
       "       Departure/Arrival time convenient  Ease of Online booking  \\\n",
       "0                                      4                       3   \n",
       "1                                      2                       3   \n",
       "2                                      2                       2   \n",
       "3                                      5                       5   \n",
       "4                                      3                       3   \n",
       "...                                  ...                     ...   \n",
       "25971                                  3                       3   \n",
       "25972                                  4                       4   \n",
       "25973                                  5                       1   \n",
       "25974                                  3                       3   \n",
       "25975                                  5                       2   \n",
       "\n",
       "       Gate location  ...  Inflight entertainment  On-board service  \\\n",
       "0                  1  ...                       5                 4   \n",
       "1                  3  ...                       1                 1   \n",
       "2                  2  ...                       5                 4   \n",
       "3                  5  ...                       2                 2   \n",
       "4                  3  ...                       3                 3   \n",
       "...              ...  ...                     ...               ...   \n",
       "25971              1  ...                       4                 3   \n",
       "25972              4  ...                       4                 4   \n",
       "25973              5  ...                       2                 4   \n",
       "25974              3  ...                       4                 3   \n",
       "25975              5  ...                       1                 1   \n",
       "\n",
       "       Leg room service  Baggage handling  Checkin service  Inflight service  \\\n",
       "0                     3                 4                4                 5   \n",
       "1                     5                 3                1                 4   \n",
       "2                     3                 4                4                 4   \n",
       "3                     5                 3                1                 4   \n",
       "4                     4                 4                3                 3   \n",
       "...                 ...               ...              ...               ...   \n",
       "25971                 2                 4                4                 5   \n",
       "25972                 5                 5                5                 5   \n",
       "25973                 3                 4                5                 4   \n",
       "25974                 2                 5                4                 5   \n",
       "25975                 2                 1                1                 1   \n",
       "\n",
       "       Cleanliness  Departure Delay in Minutes  Arrival Delay in Minutes  \\\n",
       "0                5                          25                      18.0   \n",
       "1                1                           1                       6.0   \n",
       "2                5                           0                       0.0   \n",
       "3                2                          11                       9.0   \n",
       "4                3                           0                       0.0   \n",
       "...            ...                         ...                       ...   \n",
       "25971            4                           0                       0.0   \n",
       "25972            4                           0                       0.0   \n",
       "25973            2                           0                       0.0   \n",
       "25974            4                           0                       0.0   \n",
       "25975            1                           0                       0.0   \n",
       "\n",
       "                  satisfaction  \n",
       "0      neutral or dissatisfied  \n",
       "1      neutral or dissatisfied  \n",
       "2                    satisfied  \n",
       "3      neutral or dissatisfied  \n",
       "4                    satisfied  \n",
       "...                        ...  \n",
       "25971  neutral or dissatisfied  \n",
       "25972                satisfied  \n",
       "25973  neutral or dissatisfied  \n",
       "25974                satisfied  \n",
       "25975  neutral or dissatisfied  \n",
       "\n",
       "[125899 rows x 23 columns]"
      ]
     },
     "execution_count": 28,
     "metadata": {},
     "output_type": "execute_result"
    }
   ],
   "source": [
    "df.drop(outliers.index,inplace=True)\n",
    "df\n",
    "\n"
   ]
  },
  {
   "cell_type": "markdown",
   "id": "d48c0afd",
   "metadata": {},
   "source": [
    "# Inflight wifi service"
   ]
  },
  {
   "cell_type": "code",
   "execution_count": 29,
   "id": "5ec24121",
   "metadata": {},
   "outputs": [
    {
     "data": {
      "text/plain": [
       "count    125899.000000\n",
       "mean          2.727726\n",
       "std           1.326378\n",
       "min           0.000000\n",
       "25%           2.000000\n",
       "50%           3.000000\n",
       "75%           4.000000\n",
       "max           5.000000\n",
       "Name: Inflight wifi service, dtype: float64"
      ]
     },
     "execution_count": 29,
     "metadata": {},
     "output_type": "execute_result"
    }
   ],
   "source": [
    "df['Inflight wifi service'].describe()\n"
   ]
  },
  {
   "cell_type": "code",
   "execution_count": 30,
   "id": "9ce2fb0f",
   "metadata": {},
   "outputs": [
    {
     "data": {
      "text/plain": [
       "array([3, 2, 4, 1, 5, 0], dtype=int64)"
      ]
     },
     "execution_count": 30,
     "metadata": {},
     "output_type": "execute_result"
    }
   ],
   "source": [
    "df['Inflight wifi service'].unique()\n"
   ]
  },
  {
   "cell_type": "code",
   "execution_count": 31,
   "id": "7d6eae76",
   "metadata": {},
   "outputs": [
    {
     "data": {
      "text/plain": [
       "<AxesSubplot:xlabel='Inflight wifi service', ylabel='count'>"
      ]
     },
     "execution_count": 31,
     "metadata": {},
     "output_type": "execute_result"
    },
    {
     "data": {
      "image/png": "[encoded data removed]",
      "text/plain": [
       "<Figure size 900x900 with 1 Axes>"
      ]
     },
     "metadata": {},
     "output_type": "display_data"
    }
   ],
   "source": [
    "sns.countplot(x='Inflight wifi service', data=df, palette='YlGn')"
   ]
  },
  {
   "cell_type": "code",
   "execution_count": 32,
   "id": "60594e90",
   "metadata": {},
   "outputs": [
    {
     "data": {
      "text/plain": [
       "<AxesSubplot:xlabel='Inflight wifi service'>"
      ]
     },
     "execution_count": 32,
     "metadata": {},
     "output_type": "execute_result"
    },
    {
     "data": {
      "image/png": "[encoded data removed]",
      "text/plain": [
       "<Figure size 900x900 with 1 Axes>"
      ]
     },
     "metadata": {},
     "output_type": "display_data"
    }
   ],
   "source": [
    "sns.boxplot(x='Inflight wifi service', data=df, palette='Blues')\n",
    "sns.stripplot(x='Inflight wifi service', data=df, palette='rainbow')"
   ]
  },
  {
   "cell_type": "markdown",
   "id": "dd2cb537",
   "metadata": {},
   "source": [
    "# Departure/Arrival time convenient"
   ]
  },
  {
   "cell_type": "code",
   "execution_count": 33,
   "id": "73db6edd",
   "metadata": {},
   "outputs": [
    {
     "data": {
      "text/plain": [
       "count    125899.000000\n",
       "mean          3.060874\n",
       "std           1.527217\n",
       "min           0.000000\n",
       "25%           2.000000\n",
       "50%           3.000000\n",
       "75%           4.000000\n",
       "max           5.000000\n",
       "Name: Departure/Arrival time convenient, dtype: float64"
      ]
     },
     "execution_count": 33,
     "metadata": {},
     "output_type": "execute_result"
    }
   ],
   "source": [
    "df['Departure/Arrival time convenient'].describe()\n"
   ]
  },
  {
   "cell_type": "code",
   "execution_count": 34,
   "id": "7c7355da",
   "metadata": {},
   "outputs": [
    {
     "data": {
      "text/plain": [
       "array([4, 2, 5, 3, 1, 0], dtype=int64)"
      ]
     },
     "execution_count": 34,
     "metadata": {},
     "output_type": "execute_result"
    }
   ],
   "source": [
    "df['Departure/Arrival time convenient'].unique()"
   ]
  },
  {
   "cell_type": "code",
   "execution_count": 35,
   "id": "8e6509e4",
   "metadata": {},
   "outputs": [
    {
     "data": {
      "text/plain": [
       "<AxesSubplot:xlabel='Departure/Arrival time convenient', ylabel='count'>"
      ]
     },
     "execution_count": 35,
     "metadata": {},
     "output_type": "execute_result"
    },
    {
     "data": {
      "image/png": "[encoded data removed]",
      "text/plain": [
       "<Figure size 900x900 with 1 Axes>"
      ]
     },
     "metadata": {},
     "output_type": "display_data"
    }
   ],
   "source": [
    "sns.countplot(x='Departure/Arrival time convenient', data=df, palette='hot_r')"
   ]
  },
  {
   "cell_type": "code",
   "execution_count": 36,
   "id": "3588aee3",
   "metadata": {},
   "outputs": [
    {
     "data": {
      "text/plain": [
       "<AxesSubplot:xlabel='Departure/Arrival time convenient'>"
      ]
     },
     "execution_count": 36,
     "metadata": {},
     "output_type": "execute_result"
    },
    {
     "data": {
      "image/png": "[encoded data removed]",
      "text/plain": [
       "<Figure size 900x900 with 1 Axes>"
      ]
     },
     "metadata": {},
     "output_type": "display_data"
    }
   ],
   "source": [
    "sns.boxplot(x='Departure/Arrival time convenient', data=df, palette='Blues')\n",
    "sns.stripplot(x='Departure/Arrival time convenient', data=df, palette='rainbow')"
   ]
  },
  {
   "cell_type": "code",
   "execution_count": 37,
   "id": "a71d3144",
   "metadata": {},
   "outputs": [
    {
     "data": {
      "text/plain": [
       "Index(['Gender', 'Customer Type', 'Age', 'Type of Travel', 'Class',\n",
       "       'Flight Distance', 'Inflight wifi service',\n",
       "       'Departure/Arrival time convenient', 'Ease of Online booking',\n",
       "       'Gate location', 'Food and drink', 'Online boarding', 'Seat comfort',\n",
       "       'Inflight entertainment', 'On-board service', 'Leg room service',\n",
       "       'Baggage handling', 'Checkin service', 'Inflight service',\n",
       "       'Cleanliness', 'Departure Delay in Minutes', 'Arrival Delay in Minutes',\n",
       "       'satisfaction'],\n",
       "      dtype='object')"
      ]
     },
     "execution_count": 37,
     "metadata": {},
     "output_type": "execute_result"
    }
   ],
   "source": [
    "df.columns\n"
   ]
  },
  {
   "cell_type": "markdown",
   "id": "7c496cef",
   "metadata": {},
   "source": [
    "# Ease of Online booking"
   ]
  },
  {
   "cell_type": "code",
   "execution_count": 38,
   "id": "93163657",
   "metadata": {
    "scrolled": true
   },
   "outputs": [
    {
     "data": {
      "text/plain": [
       "count    125899.000000\n",
       "mean          2.753533\n",
       "std           1.399064\n",
       "min           0.000000\n",
       "25%           2.000000\n",
       "50%           3.000000\n",
       "75%           4.000000\n",
       "max           5.000000\n",
       "Name: Ease of Online booking, dtype: float64"
      ]
     },
     "execution_count": 38,
     "metadata": {},
     "output_type": "execute_result"
    }
   ],
   "source": [
    "df['Ease of Online booking'].describe()\n"
   ]
  },
  {
   "cell_type": "code",
   "execution_count": 39,
   "id": "b76433bb",
   "metadata": {},
   "outputs": [
    {
     "data": {
      "text/plain": [
       "array([3, 2, 5, 4, 1, 0], dtype=int64)"
      ]
     },
     "execution_count": 39,
     "metadata": {},
     "output_type": "execute_result"
    }
   ],
   "source": [
    "df['Ease of Online booking'].unique()"
   ]
  },
  {
   "cell_type": "code",
   "execution_count": 40,
   "id": "6d9e48b7",
   "metadata": {},
   "outputs": [
    {
     "data": {
      "text/plain": [
       "<AxesSubplot:xlabel='Ease of Online booking', ylabel='count'>"
      ]
     },
     "execution_count": 40,
     "metadata": {},
     "output_type": "execute_result"
    },
    {
     "data": {
      "image/png": "[encoded data removed]",
      "text/plain": [
       "<Figure size 900x900 with 1 Axes>"
      ]
     },
     "metadata": {},
     "output_type": "display_data"
    }
   ],
   "source": [
    "sns.countplot(x='Ease of Online booking', data=df, palette='hot_r')"
   ]
  },
  {
   "cell_type": "code",
   "execution_count": 41,
   "id": "2d69b213",
   "metadata": {},
   "outputs": [
    {
     "data": {
      "text/plain": [
       "<AxesSubplot:xlabel='Ease of Online booking'>"
      ]
     },
     "execution_count": 41,
     "metadata": {},
     "output_type": "execute_result"
    },
    {
     "data": {
      "image/png": "[encoded data removed]",
      "text/plain": [
       "<Figure size 900x900 with 1 Axes>"
      ]
     },
     "metadata": {},
     "output_type": "display_data"
    }
   ],
   "source": [
    "sns.boxplot(x='Ease of Online booking', data=df, palette='Blues')\n",
    "sns.stripplot(x='Ease of Online booking', data=df, palette='rainbow')"
   ]
  },
  {
   "cell_type": "markdown",
   "id": "efe59d46",
   "metadata": {},
   "source": [
    "# Gate location "
   ]
  },
  {
   "cell_type": "code",
   "execution_count": 42,
   "id": "9db7189a",
   "metadata": {},
   "outputs": [
    {
     "data": {
      "text/plain": [
       "array([1, 3, 2, 5, 4, 0], dtype=int64)"
      ]
     },
     "execution_count": 42,
     "metadata": {},
     "output_type": "execute_result"
    }
   ],
   "source": [
    "df['Gate location'].unique()\n"
   ]
  },
  {
   "cell_type": "code",
   "execution_count": 43,
   "id": "676b4412",
   "metadata": {},
   "outputs": [
    {
     "data": {
      "text/plain": [
       "count    125899.000000\n",
       "mean          2.976974\n",
       "std           1.275583\n",
       "min           0.000000\n",
       "25%           2.000000\n",
       "50%           3.000000\n",
       "75%           4.000000\n",
       "max           5.000000\n",
       "Name: Gate location, dtype: float64"
      ]
     },
     "execution_count": 43,
     "metadata": {},
     "output_type": "execute_result"
    }
   ],
   "source": [
    "df['Gate location'].describe()"
   ]
  },
  {
   "cell_type": "code",
   "execution_count": 44,
   "id": "0570b739",
   "metadata": {},
   "outputs": [
    {
     "data": {
      "text/plain": [
       "<AxesSubplot:xlabel='Gate location', ylabel='count'>"
      ]
     },
     "execution_count": 44,
     "metadata": {},
     "output_type": "execute_result"
    },
    {
     "data": {
      "image/png": "[encoded data removed]",
      "text/plain": [
       "<Figure size 900x900 with 1 Axes>"
      ]
     },
     "metadata": {},
     "output_type": "display_data"
    }
   ],
   "source": [
    "sns.countplot(x='Gate location', data=df, palette='hot_r')"
   ]
  },
  {
   "cell_type": "code",
   "execution_count": 45,
   "id": "6e034265",
   "metadata": {},
   "outputs": [
    {
     "data": {
      "text/plain": [
       "<AxesSubplot:xlabel='Gate location'>"
      ]
     },
     "execution_count": 45,
     "metadata": {},
     "output_type": "execute_result"
    },
    {
     "data": {
      "image/png": "[encoded data removed]",
      "text/plain": [
       "<Figure size 900x900 with 1 Axes>"
      ]
     },
     "metadata": {},
     "output_type": "display_data"
    }
   ],
   "source": [
    "sns.boxplot(x='Gate location', data=df, palette='Blues')\n",
    "sns.stripplot(x='Gate location', data=df, palette='rainbow')"
   ]
  },
  {
   "cell_type": "markdown",
   "id": "bfefc199",
   "metadata": {},
   "source": [
    "## Food and drink"
   ]
  },
  {
   "cell_type": "code",
   "execution_count": 46,
   "id": "620055f9",
   "metadata": {},
   "outputs": [
    {
     "data": {
      "text/plain": [
       "array([5, 1, 2, 4, 3, 0], dtype=int64)"
      ]
     },
     "execution_count": 46,
     "metadata": {},
     "output_type": "execute_result"
    }
   ],
   "source": [
    "df['Food and drink'].unique()"
   ]
  },
  {
   "cell_type": "code",
   "execution_count": 47,
   "id": "6fcecc95",
   "metadata": {},
   "outputs": [
    {
     "data": {
      "text/plain": [
       "4    29559\n",
       "5    27051\n",
       "3    26895\n",
       "2    26563\n",
       "1    15704\n",
       "0      127\n",
       "Name: Food and drink, dtype: int64"
      ]
     },
     "execution_count": 47,
     "metadata": {},
     "output_type": "execute_result"
    }
   ],
   "source": [
    "df['Food and drink'].value_counts()"
   ]
  },
  {
   "cell_type": "code",
   "execution_count": 48,
   "id": "ca64df4d",
   "metadata": {},
   "outputs": [
    {
     "name": "stderr",
     "output_type": "stream",
     "text": [
      "C:\\Users\\sarah\\anaconda3\\lib\\site-packages\\seaborn\\_decorators.py:36: FutureWarning: Pass the following variable as a keyword arg: x. From version 0.12, the only valid positional argument will be `data`, and passing other arguments without an explicit keyword will result in an error or misinterpretation.\n",
      "  warnings.warn(\n"
     ]
    },
    {
     "data": {
      "text/plain": [
       "<AxesSubplot:xlabel='Food and drink', ylabel='count'>"
      ]
     },
     "execution_count": 48,
     "metadata": {},
     "output_type": "execute_result"
    },
    {
     "data": {
      "image/png": "[encoded data removed]",
      "text/plain": [
       "<Figure size 900x900 with 1 Axes>"
      ]
     },
     "metadata": {},
     "output_type": "display_data"
    }
   ],
   "source": [
    "sns.countplot(df['Food and drink'] , palette='CMRmap_r')"
   ]
  },
  {
   "cell_type": "markdown",
   "id": "2b112a61",
   "metadata": {},
   "source": [
    "## Online boarding"
   ]
  },
  {
   "cell_type": "code",
   "execution_count": 49,
   "id": "b50f79e9",
   "metadata": {},
   "outputs": [
    {
     "data": {
      "text/plain": [
       "array([3, 5, 2, 1, 4, 0], dtype=int64)"
      ]
     },
     "execution_count": 49,
     "metadata": {},
     "output_type": "execute_result"
    }
   ],
   "source": [
    "df['Online boarding'].unique()"
   ]
  },
  {
   "cell_type": "code",
   "execution_count": 50,
   "id": "9ca74fc0",
   "metadata": {},
   "outputs": [
    {
     "data": {
      "text/plain": [
       "4    36909\n",
       "3    26525\n",
       "5    24880\n",
       "2    21518\n",
       "1    13016\n",
       "0     3051\n",
       "Name: Online boarding, dtype: int64"
      ]
     },
     "execution_count": 50,
     "metadata": {},
     "output_type": "execute_result"
    }
   ],
   "source": [
    "df['Online boarding'].value_counts()"
   ]
  },
  {
   "cell_type": "code",
   "execution_count": 51,
   "id": "bea2920a",
   "metadata": {},
   "outputs": [
    {
     "name": "stderr",
     "output_type": "stream",
     "text": [
      "C:\\Users\\sarah\\anaconda3\\lib\\site-packages\\seaborn\\_decorators.py:36: FutureWarning: Pass the following variable as a keyword arg: x. From version 0.12, the only valid positional argument will be `data`, and passing other arguments without an explicit keyword will result in an error or misinterpretation.\n",
      "  warnings.warn(\n"
     ]
    },
    {
     "data": {
      "text/plain": [
       "<AxesSubplot:xlabel='Online boarding', ylabel='count'>"
      ]
     },
     "execution_count": 51,
     "metadata": {},
     "output_type": "execute_result"
    },
    {
     "data": {
      "image/png": "[encoded data removed]",
      "text/plain": [
       "<Figure size 900x900 with 1 Axes>"
      ]
     },
     "metadata": {},
     "output_type": "display_data"
    }
   ],
   "source": [
    "sns.countplot(df['Online boarding'] , palette='ocean_r')"
   ]
  },
  {
   "cell_type": "code",
   "execution_count": null,
   "id": "781ef5cb",
   "metadata": {},
   "outputs": [],
   "source": []
  },
  {
   "cell_type": "markdown",
   "id": "92d8fa89",
   "metadata": {},
   "source": [
    "## Seat comfort"
   ]
  },
  {
   "cell_type": "code",
   "execution_count": 52,
   "id": "bca45f01",
   "metadata": {},
   "outputs": [
    {
     "data": {
      "text/plain": [
       "array([5, 1, 2, 3, 4, 0], dtype=int64)"
      ]
     },
     "execution_count": 52,
     "metadata": {},
     "output_type": "execute_result"
    }
   ],
   "source": [
    "df['Seat comfort'].unique()"
   ]
  },
  {
   "cell_type": "code",
   "execution_count": 53,
   "id": "c6cf4d00",
   "metadata": {},
   "outputs": [
    {
     "data": {
      "text/plain": [
       "4    38256\n",
       "5    31904\n",
       "3    22737\n",
       "2    18151\n",
       "1    14850\n",
       "0        1\n",
       "Name: Seat comfort, dtype: int64"
      ]
     },
     "execution_count": 53,
     "metadata": {},
     "output_type": "execute_result"
    }
   ],
   "source": [
    "df['Seat comfort'].value_counts()"
   ]
  },
  {
   "cell_type": "code",
   "execution_count": 54,
   "id": "55912bd8",
   "metadata": {},
   "outputs": [
    {
     "name": "stderr",
     "output_type": "stream",
     "text": [
      "C:\\Users\\sarah\\anaconda3\\lib\\site-packages\\seaborn\\_decorators.py:36: FutureWarning: Pass the following variable as a keyword arg: x. From version 0.12, the only valid positional argument will be `data`, and passing other arguments without an explicit keyword will result in an error or misinterpretation.\n",
      "  warnings.warn(\n"
     ]
    },
    {
     "data": {
      "text/plain": [
       "<AxesSubplot:xlabel='Seat comfort', ylabel='count'>"
      ]
     },
     "execution_count": 54,
     "metadata": {},
     "output_type": "execute_result"
    },
    {
     "data": {
      "image/png": "[encoded data removed]",
      "text/plain": [
       "<Figure size 900x900 with 1 Axes>"
      ]
     },
     "metadata": {},
     "output_type": "display_data"
    }
   ],
   "source": [
    "sns.countplot(df['Seat comfort'] , palette='BuGn')"
   ]
  },
  {
   "cell_type": "markdown",
   "id": "329ef73e",
   "metadata": {},
   "source": [
    "## Inflight entertainment"
   ]
  },
  {
   "cell_type": "code",
   "execution_count": 55,
   "id": "bdfa6aa0",
   "metadata": {},
   "outputs": [
    {
     "data": {
      "text/plain": [
       "array([5, 1, 2, 3, 4, 0], dtype=int64)"
      ]
     },
     "execution_count": 55,
     "metadata": {},
     "output_type": "execute_result"
    }
   ],
   "source": [
    "df['Inflight entertainment'].unique()"
   ]
  },
  {
   "cell_type": "code",
   "execution_count": 56,
   "id": "6851b5e5",
   "metadata": {},
   "outputs": [
    {
     "data": {
      "text/plain": [
       "4    35414\n",
       "5    30367\n",
       "3    23211\n",
       "2    21485\n",
       "1    15405\n",
       "0       17\n",
       "Name: Inflight entertainment, dtype: int64"
      ]
     },
     "execution_count": 56,
     "metadata": {},
     "output_type": "execute_result"
    }
   ],
   "source": [
    "df['Inflight entertainment'].value_counts()"
   ]
  },
  {
   "cell_type": "code",
   "execution_count": null,
   "id": "e17116c3",
   "metadata": {},
   "outputs": [],
   "source": []
  },
  {
   "cell_type": "markdown",
   "id": "6bd3a1f1",
   "metadata": {},
   "source": [
    "## On-board service"
   ]
  },
  {
   "cell_type": "code",
   "execution_count": 57,
   "id": "08a2012e",
   "metadata": {},
   "outputs": [
    {
     "data": {
      "text/plain": [
       "array([4, 1, 2, 3, 5, 0], dtype=int64)"
      ]
     },
     "execution_count": 57,
     "metadata": {},
     "output_type": "execute_result"
    }
   ],
   "source": [
    "df['On-board service'].unique()"
   ]
  },
  {
   "cell_type": "code",
   "execution_count": 58,
   "id": "e5322e5e",
   "metadata": {},
   "outputs": [
    {
     "data": {
      "text/plain": [
       "4    37340\n",
       "5    28396\n",
       "3    27802\n",
       "2    17900\n",
       "1    14457\n",
       "0        4\n",
       "Name: On-board service, dtype: int64"
      ]
     },
     "execution_count": 58,
     "metadata": {},
     "output_type": "execute_result"
    }
   ],
   "source": [
    "df['On-board service'].value_counts()"
   ]
  },
  {
   "cell_type": "markdown",
   "id": "fb372a6f",
   "metadata": {},
   "source": [
    "## Leg room service"
   ]
  },
  {
   "cell_type": "code",
   "execution_count": 59,
   "id": "dbcf6eab",
   "metadata": {},
   "outputs": [
    {
     "data": {
      "text/plain": [
       "array([3, 5, 4, 2, 1, 0], dtype=int64)"
      ]
     },
     "execution_count": 59,
     "metadata": {},
     "output_type": "execute_result"
    }
   ],
   "source": [
    "df['Leg room service'].unique()"
   ]
  },
  {
   "cell_type": "code",
   "execution_count": 60,
   "id": "8e50a35b",
   "metadata": {},
   "outputs": [
    {
     "data": {
      "text/plain": [
       "4    34519\n",
       "5    29757\n",
       "3    24444\n",
       "2    23990\n",
       "1    12599\n",
       "0      590\n",
       "Name: Leg room service, dtype: int64"
      ]
     },
     "execution_count": 60,
     "metadata": {},
     "output_type": "execute_result"
    }
   ],
   "source": [
    "df['Leg room service'].value_counts()"
   ]
  },
  {
   "cell_type": "markdown",
   "id": "1dda1648",
   "metadata": {},
   "source": [
    "## Baggage handling"
   ]
  },
  {
   "cell_type": "code",
   "execution_count": 61,
   "id": "89daab7e",
   "metadata": {},
   "outputs": [
    {
     "data": {
      "text/plain": [
       "array([4, 3, 5, 1, 2], dtype=int64)"
      ]
     },
     "execution_count": 61,
     "metadata": {},
     "output_type": "execute_result"
    }
   ],
   "source": [
    "df['Baggage handling'].unique()"
   ]
  },
  {
   "cell_type": "code",
   "execution_count": 62,
   "id": "9b786691",
   "metadata": {},
   "outputs": [
    {
     "data": {
      "text/plain": [
       "4    45261\n",
       "5    32685\n",
       "3    25178\n",
       "2    13975\n",
       "1     8800\n",
       "Name: Baggage handling, dtype: int64"
      ]
     },
     "execution_count": 62,
     "metadata": {},
     "output_type": "execute_result"
    }
   ],
   "source": [
    "df['Baggage handling'].value_counts()"
   ]
  },
  {
   "cell_type": "markdown",
   "id": "c5de230d",
   "metadata": {},
   "source": []
  },
  {
   "cell_type": "code",
   "execution_count": 63,
   "id": "c2669247",
   "metadata": {},
   "outputs": [
    {
     "data": {
      "text/plain": [
       "array([4, 1, 3, 5, 2, 0], dtype=int64)"
      ]
     },
     "execution_count": 63,
     "metadata": {},
     "output_type": "execute_result"
    }
   ],
   "source": [
    "df['Checkin service'].unique()"
   ]
  },
  {
   "cell_type": "code",
   "execution_count": 64,
   "id": "813d440a",
   "metadata": {},
   "outputs": [
    {
     "data": {
      "text/plain": [
       "4    35162\n",
       "3    34350\n",
       "5    24965\n",
       "2    15711\n",
       "1    15710\n",
       "0        1\n",
       "Name: Checkin service, dtype: int64"
      ]
     },
     "execution_count": 64,
     "metadata": {},
     "output_type": "execute_result"
    }
   ],
   "source": [
    "df['Checkin service'].value_counts()"
   ]
  },
  {
   "cell_type": "markdown",
   "id": "4501fb44",
   "metadata": {},
   "source": [
    "## Inflight service"
   ]
  },
  {
   "cell_type": "code",
   "execution_count": 65,
   "id": "07a27b58",
   "metadata": {},
   "outputs": [
    {
     "data": {
      "text/plain": [
       "array([5, 4, 3, 1, 2, 0], dtype=int64)"
      ]
     },
     "execution_count": 65,
     "metadata": {},
     "output_type": "execute_result"
    }
   ],
   "source": [
    "df['Inflight service'].unique()"
   ]
  },
  {
   "cell_type": "code",
   "execution_count": 66,
   "id": "9e51d065",
   "metadata": {},
   "outputs": [
    {
     "data": {
      "text/plain": [
       "4    45834\n",
       "5    32870\n",
       "3    24626\n",
       "2    13907\n",
       "1     8658\n",
       "0        4\n",
       "Name: Inflight service, dtype: int64"
      ]
     },
     "execution_count": 66,
     "metadata": {},
     "output_type": "execute_result"
    }
   ],
   "source": [
    "df['Inflight service'].value_counts()"
   ]
  },
  {
   "cell_type": "markdown",
   "id": "2e70242e",
   "metadata": {},
   "source": [
    "## Cleanliness"
   ]
  },
  {
   "cell_type": "code",
   "execution_count": 67,
   "id": "e8ca2567",
   "metadata": {},
   "outputs": [
    {
     "data": {
      "text/plain": [
       "array([5, 1, 2, 3, 4, 0], dtype=int64)"
      ]
     },
     "execution_count": 67,
     "metadata": {},
     "output_type": "execute_result"
    }
   ],
   "source": [
    "df['Cleanliness'].unique()"
   ]
  },
  {
   "cell_type": "code",
   "execution_count": 68,
   "id": "fdd1d0a6",
   "metadata": {},
   "outputs": [
    {
     "data": {
      "text/plain": [
       "4    32781\n",
       "3    29606\n",
       "5    27449\n",
       "2    19687\n",
       "1    16362\n",
       "0       14\n",
       "Name: Cleanliness, dtype: int64"
      ]
     },
     "execution_count": 68,
     "metadata": {},
     "output_type": "execute_result"
    }
   ],
   "source": [
    "df['Cleanliness'].value_counts()"
   ]
  },
  {
   "cell_type": "markdown",
   "id": "32029b48",
   "metadata": {},
   "source": [
    "## Departure Delay in Minutes"
   ]
  },
  {
   "cell_type": "code",
   "execution_count": 69,
   "id": "9dab9a95",
   "metadata": {},
   "outputs": [
    {
     "data": {
      "text/plain": [
       "count    125899.000000\n",
       "mean         14.681594\n",
       "std          38.002864\n",
       "min           0.000000\n",
       "25%           0.000000\n",
       "50%           0.000000\n",
       "75%          12.000000\n",
       "max        1592.000000\n",
       "Name: Departure Delay in Minutes, dtype: float64"
      ]
     },
     "execution_count": 69,
     "metadata": {},
     "output_type": "execute_result"
    }
   ],
   "source": [
    "df['Departure Delay in Minutes'].describe()"
   ]
  },
  {
   "cell_type": "code",
   "execution_count": 70,
   "id": "8a8dad47",
   "metadata": {},
   "outputs": [
    {
     "data": {
      "text/plain": [
       "<AxesSubplot:xlabel='Departure Delay in Minutes'>"
      ]
     },
     "execution_count": 70,
     "metadata": {},
     "output_type": "execute_result"
    },
    {
     "data": {
      "image/png": "[encoded data removed]",
      "text/plain": [
       "<Figure size 900x900 with 1 Axes>"
      ]
     },
     "metadata": {},
     "output_type": "display_data"
    }
   ],
   "source": [
    "sns.boxplot(x='Departure Delay in Minutes' ,data=df )"
   ]
  },
  {
   "cell_type": "code",
   "execution_count": 71,
   "id": "a2697bd5",
   "metadata": {},
   "outputs": [
    {
     "data": {
      "text/plain": [
       "<AxesSubplot:ylabel='Density'>"
      ]
     },
     "execution_count": 71,
     "metadata": {},
     "output_type": "execute_result"
    },
    {
     "data": {
      "image/png": "[encoded data removed]",
      "text/plain": [
       "<Figure size 2000x1000 with 1 Axes>"
      ]
     },
     "metadata": {},
     "output_type": "display_data"
    }
   ],
   "source": [
    "df['Departure Delay in Minutes'].plot(kind = 'kde', figsize = (20, 10))"
   ]
  },
  {
   "cell_type": "code",
   "execution_count": 72,
   "id": "b4f3d482",
   "metadata": {},
   "outputs": [],
   "source": [
    "# q1 = df['Departure Delay in Minutes'].quantile(0.25)\n",
    "# q3 = df['Departure Delay in Minutes'].quantile(0.75)\n",
    "# iqr = q3 - q1\n",
    "# lower_whisker = q1 - 1.5 * iqr\n",
    "# upper_whisker = q3 + 1.5 * iqr\n",
    "# lower_whisker, upper_whisker"
   ]
  },
  {
   "cell_type": "code",
   "execution_count": 73,
   "id": "bd3d2135",
   "metadata": {},
   "outputs": [],
   "source": [
    "# filt = (df['Departure Delay in Minutes'] < lower_whisker) | (df['Departure Delay in Minutes'] > upper_whisker)\n",
    "# filt.sum()"
   ]
  },
  {
   "cell_type": "markdown",
   "id": "0e9f96c7",
   "metadata": {},
   "source": [
    "## Arrival Delay in Minutes"
   ]
  },
  {
   "cell_type": "code",
   "execution_count": 74,
   "id": "3827640e",
   "metadata": {},
   "outputs": [
    {
     "data": {
      "text/plain": [
       "count    125521.000000\n",
       "mean         15.071271\n",
       "std          38.410410\n",
       "min           0.000000\n",
       "25%           0.000000\n",
       "50%           0.000000\n",
       "75%          13.000000\n",
       "max        1584.000000\n",
       "Name: Arrival Delay in Minutes, dtype: float64"
      ]
     },
     "execution_count": 74,
     "metadata": {},
     "output_type": "execute_result"
    }
   ],
   "source": [
    "df['Arrival Delay in Minutes'].describe()"
   ]
  },
  {
   "cell_type": "code",
   "execution_count": 75,
   "id": "53158577",
   "metadata": {},
   "outputs": [
    {
     "data": {
      "text/plain": [
       "378"
      ]
     },
     "execution_count": 75,
     "metadata": {},
     "output_type": "execute_result"
    }
   ],
   "source": [
    "df['Arrival Delay in Minutes'].isna().sum()"
   ]
  },
  {
   "cell_type": "code",
   "execution_count": 76,
   "id": "22ef18be",
   "metadata": {},
   "outputs": [],
   "source": [
    "#work with missingvalue\n",
    "from sklearn.impute import KNNImputer\n",
    "\n",
    "imputer = KNNImputer()\n",
    "df['Arrival Delay in Minutes'] = imputer.fit_transform(df[['Arrival Delay in Minutes']])\n"
   ]
  },
  {
   "cell_type": "code",
   "execution_count": 77,
   "id": "7f4560b4",
   "metadata": {},
   "outputs": [
    {
     "data": {
      "text/plain": [
       "0"
      ]
     },
     "execution_count": 77,
     "metadata": {},
     "output_type": "execute_result"
    }
   ],
   "source": [
    "df['Arrival Delay in Minutes'].isna().sum()"
   ]
  },
  {
   "cell_type": "code",
   "execution_count": null,
   "id": "6808e967",
   "metadata": {},
   "outputs": [],
   "source": []
  },
  {
   "cell_type": "markdown",
   "id": "e02f5715",
   "metadata": {},
   "source": [
    "## satisfaction"
   ]
  },
  {
   "cell_type": "code",
   "execution_count": 78,
   "id": "0eec0cee",
   "metadata": {},
   "outputs": [
    {
     "data": {
      "text/plain": [
       "array(['neutral or dissatisfied', 'satisfied'], dtype=object)"
      ]
     },
     "execution_count": 78,
     "metadata": {},
     "output_type": "execute_result"
    }
   ],
   "source": [
    "df['satisfaction'].unique()"
   ]
  },
  {
   "cell_type": "code",
   "execution_count": 79,
   "id": "620d6697",
   "metadata": {},
   "outputs": [
    {
     "name": "stderr",
     "output_type": "stream",
     "text": [
      "C:\\Users\\sarah\\anaconda3\\lib\\site-packages\\seaborn\\_decorators.py:36: FutureWarning: Pass the following variable as a keyword arg: x. From version 0.12, the only valid positional argument will be `data`, and passing other arguments without an explicit keyword will result in an error or misinterpretation.\n",
      "  warnings.warn(\n"
     ]
    },
    {
     "data": {
      "text/plain": [
       "<AxesSubplot:xlabel='satisfaction', ylabel='count'>"
      ]
     },
     "execution_count": 79,
     "metadata": {},
     "output_type": "execute_result"
    },
    {
     "data": {
      "image/png": "[encoded data removed]",
      "text/plain": [
       "<Figure size 900x900 with 1 Axes>"
      ]
     },
     "metadata": {},
     "output_type": "display_data"
    }
   ],
   "source": [
    "sns.countplot(df['satisfaction'] , palette='gist_ncar')"
   ]
  },
  {
   "cell_type": "markdown",
   "id": "b5b64967",
   "metadata": {},
   "source": [
    "<h1 style=\"color:red\"> DATA PREPROCESSING </h1>\n",
    "\n",
    "- work with categorigal data"
   ]
  },
  {
   "cell_type": "markdown",
   "id": "6a5af964",
   "metadata": {},
   "source": [
    "# Gender \n"
   ]
  },
  {
   "cell_type": "code",
   "execution_count": 80,
   "id": "73553389",
   "metadata": {},
   "outputs": [],
   "source": [
    "df = pd.get_dummies(df , columns=['Gender' , 'Customer Type' ,'Type of Travel' ,'satisfaction'] , drop_first=True)\n"
   ]
  },
  {
   "cell_type": "code",
   "execution_count": 81,
   "id": "7eb8ba32",
   "metadata": {},
   "outputs": [
    {
     "data": {
      "text/html": [
       "<div>\n",
       "<style scoped>\n",
       "    .dataframe tbody tr th:only-of-type {\n",
       "        vertical-align: middle;\n",
       "    }\n",
       "\n",
       "    .dataframe tbody tr th {\n",
       "        vertical-align: top;\n",
       "    }\n",
       "\n",
       "    .dataframe thead th {\n",
       "        text-align: right;\n",
       "    }\n",
       "</style>\n",
       "<table border=\"1\" class=\"dataframe\">\n",
       "  <thead>\n",
       "    <tr style=\"text-align: right;\">\n",
       "      <th></th>\n",
       "      <th>Age</th>\n",
       "      <th>Class</th>\n",
       "      <th>Flight Distance</th>\n",
       "      <th>Inflight wifi service</th>\n",
       "      <th>Departure/Arrival time convenient</th>\n",
       "      <th>Ease of Online booking</th>\n",
       "      <th>Gate location</th>\n",
       "      <th>Food and drink</th>\n",
       "      <th>Online boarding</th>\n",
       "      <th>Seat comfort</th>\n",
       "      <th>...</th>\n",
       "      <th>Baggage handling</th>\n",
       "      <th>Checkin service</th>\n",
       "      <th>Inflight service</th>\n",
       "      <th>Cleanliness</th>\n",
       "      <th>Departure Delay in Minutes</th>\n",
       "      <th>Arrival Delay in Minutes</th>\n",
       "      <th>Gender_Male</th>\n",
       "      <th>Customer Type_disloyal Customer</th>\n",
       "      <th>Type of Travel_Personal Travel</th>\n",
       "      <th>satisfaction_satisfied</th>\n",
       "    </tr>\n",
       "  </thead>\n",
       "  <tbody>\n",
       "    <tr>\n",
       "      <th>0</th>\n",
       "      <td>13</td>\n",
       "      <td>Eco Plus</td>\n",
       "      <td>460</td>\n",
       "      <td>3</td>\n",
       "      <td>4</td>\n",
       "      <td>3</td>\n",
       "      <td>1</td>\n",
       "      <td>5</td>\n",
       "      <td>3</td>\n",
       "      <td>5</td>\n",
       "      <td>...</td>\n",
       "      <td>4</td>\n",
       "      <td>4</td>\n",
       "      <td>5</td>\n",
       "      <td>5</td>\n",
       "      <td>25</td>\n",
       "      <td>18.0</td>\n",
       "      <td>1</td>\n",
       "      <td>0</td>\n",
       "      <td>1</td>\n",
       "      <td>0</td>\n",
       "    </tr>\n",
       "    <tr>\n",
       "      <th>1</th>\n",
       "      <td>25</td>\n",
       "      <td>Business</td>\n",
       "      <td>235</td>\n",
       "      <td>3</td>\n",
       "      <td>2</td>\n",
       "      <td>3</td>\n",
       "      <td>3</td>\n",
       "      <td>1</td>\n",
       "      <td>3</td>\n",
       "      <td>1</td>\n",
       "      <td>...</td>\n",
       "      <td>3</td>\n",
       "      <td>1</td>\n",
       "      <td>4</td>\n",
       "      <td>1</td>\n",
       "      <td>1</td>\n",
       "      <td>6.0</td>\n",
       "      <td>1</td>\n",
       "      <td>1</td>\n",
       "      <td>0</td>\n",
       "      <td>0</td>\n",
       "    </tr>\n",
       "    <tr>\n",
       "      <th>2</th>\n",
       "      <td>26</td>\n",
       "      <td>Business</td>\n",
       "      <td>1142</td>\n",
       "      <td>2</td>\n",
       "      <td>2</td>\n",
       "      <td>2</td>\n",
       "      <td>2</td>\n",
       "      <td>5</td>\n",
       "      <td>5</td>\n",
       "      <td>5</td>\n",
       "      <td>...</td>\n",
       "      <td>4</td>\n",
       "      <td>4</td>\n",
       "      <td>4</td>\n",
       "      <td>5</td>\n",
       "      <td>0</td>\n",
       "      <td>0.0</td>\n",
       "      <td>0</td>\n",
       "      <td>0</td>\n",
       "      <td>0</td>\n",
       "      <td>1</td>\n",
       "    </tr>\n",
       "    <tr>\n",
       "      <th>3</th>\n",
       "      <td>25</td>\n",
       "      <td>Business</td>\n",
       "      <td>562</td>\n",
       "      <td>2</td>\n",
       "      <td>5</td>\n",
       "      <td>5</td>\n",
       "      <td>5</td>\n",
       "      <td>2</td>\n",
       "      <td>2</td>\n",
       "      <td>2</td>\n",
       "      <td>...</td>\n",
       "      <td>3</td>\n",
       "      <td>1</td>\n",
       "      <td>4</td>\n",
       "      <td>2</td>\n",
       "      <td>11</td>\n",
       "      <td>9.0</td>\n",
       "      <td>0</td>\n",
       "      <td>0</td>\n",
       "      <td>0</td>\n",
       "      <td>0</td>\n",
       "    </tr>\n",
       "    <tr>\n",
       "      <th>4</th>\n",
       "      <td>61</td>\n",
       "      <td>Business</td>\n",
       "      <td>214</td>\n",
       "      <td>3</td>\n",
       "      <td>3</td>\n",
       "      <td>3</td>\n",
       "      <td>3</td>\n",
       "      <td>4</td>\n",
       "      <td>5</td>\n",
       "      <td>5</td>\n",
       "      <td>...</td>\n",
       "      <td>4</td>\n",
       "      <td>3</td>\n",
       "      <td>3</td>\n",
       "      <td>3</td>\n",
       "      <td>0</td>\n",
       "      <td>0.0</td>\n",
       "      <td>1</td>\n",
       "      <td>0</td>\n",
       "      <td>0</td>\n",
       "      <td>1</td>\n",
       "    </tr>\n",
       "    <tr>\n",
       "      <th>...</th>\n",
       "      <td>...</td>\n",
       "      <td>...</td>\n",
       "      <td>...</td>\n",
       "      <td>...</td>\n",
       "      <td>...</td>\n",
       "      <td>...</td>\n",
       "      <td>...</td>\n",
       "      <td>...</td>\n",
       "      <td>...</td>\n",
       "      <td>...</td>\n",
       "      <td>...</td>\n",
       "      <td>...</td>\n",
       "      <td>...</td>\n",
       "      <td>...</td>\n",
       "      <td>...</td>\n",
       "      <td>...</td>\n",
       "      <td>...</td>\n",
       "      <td>...</td>\n",
       "      <td>...</td>\n",
       "      <td>...</td>\n",
       "      <td>...</td>\n",
       "    </tr>\n",
       "    <tr>\n",
       "      <th>25971</th>\n",
       "      <td>34</td>\n",
       "      <td>Business</td>\n",
       "      <td>526</td>\n",
       "      <td>3</td>\n",
       "      <td>3</td>\n",
       "      <td>3</td>\n",
       "      <td>1</td>\n",
       "      <td>4</td>\n",
       "      <td>3</td>\n",
       "      <td>4</td>\n",
       "      <td>...</td>\n",
       "      <td>4</td>\n",
       "      <td>4</td>\n",
       "      <td>5</td>\n",
       "      <td>4</td>\n",
       "      <td>0</td>\n",
       "      <td>0.0</td>\n",
       "      <td>1</td>\n",
       "      <td>1</td>\n",
       "      <td>0</td>\n",
       "      <td>0</td>\n",
       "    </tr>\n",
       "    <tr>\n",
       "      <th>25972</th>\n",
       "      <td>23</td>\n",
       "      <td>Business</td>\n",
       "      <td>646</td>\n",
       "      <td>4</td>\n",
       "      <td>4</td>\n",
       "      <td>4</td>\n",
       "      <td>4</td>\n",
       "      <td>4</td>\n",
       "      <td>4</td>\n",
       "      <td>4</td>\n",
       "      <td>...</td>\n",
       "      <td>5</td>\n",
       "      <td>5</td>\n",
       "      <td>5</td>\n",
       "      <td>4</td>\n",
       "      <td>0</td>\n",
       "      <td>0.0</td>\n",
       "      <td>1</td>\n",
       "      <td>0</td>\n",
       "      <td>0</td>\n",
       "      <td>1</td>\n",
       "    </tr>\n",
       "    <tr>\n",
       "      <th>25973</th>\n",
       "      <td>17</td>\n",
       "      <td>Eco</td>\n",
       "      <td>828</td>\n",
       "      <td>2</td>\n",
       "      <td>5</td>\n",
       "      <td>1</td>\n",
       "      <td>5</td>\n",
       "      <td>2</td>\n",
       "      <td>1</td>\n",
       "      <td>2</td>\n",
       "      <td>...</td>\n",
       "      <td>4</td>\n",
       "      <td>5</td>\n",
       "      <td>4</td>\n",
       "      <td>2</td>\n",
       "      <td>0</td>\n",
       "      <td>0.0</td>\n",
       "      <td>0</td>\n",
       "      <td>0</td>\n",
       "      <td>1</td>\n",
       "      <td>0</td>\n",
       "    </tr>\n",
       "    <tr>\n",
       "      <th>25974</th>\n",
       "      <td>14</td>\n",
       "      <td>Business</td>\n",
       "      <td>1127</td>\n",
       "      <td>3</td>\n",
       "      <td>3</td>\n",
       "      <td>3</td>\n",
       "      <td>3</td>\n",
       "      <td>4</td>\n",
       "      <td>4</td>\n",
       "      <td>4</td>\n",
       "      <td>...</td>\n",
       "      <td>5</td>\n",
       "      <td>4</td>\n",
       "      <td>5</td>\n",
       "      <td>4</td>\n",
       "      <td>0</td>\n",
       "      <td>0.0</td>\n",
       "      <td>1</td>\n",
       "      <td>0</td>\n",
       "      <td>0</td>\n",
       "      <td>1</td>\n",
       "    </tr>\n",
       "    <tr>\n",
       "      <th>25975</th>\n",
       "      <td>42</td>\n",
       "      <td>Eco</td>\n",
       "      <td>264</td>\n",
       "      <td>2</td>\n",
       "      <td>5</td>\n",
       "      <td>2</td>\n",
       "      <td>5</td>\n",
       "      <td>4</td>\n",
       "      <td>2</td>\n",
       "      <td>2</td>\n",
       "      <td>...</td>\n",
       "      <td>1</td>\n",
       "      <td>1</td>\n",
       "      <td>1</td>\n",
       "      <td>1</td>\n",
       "      <td>0</td>\n",
       "      <td>0.0</td>\n",
       "      <td>0</td>\n",
       "      <td>0</td>\n",
       "      <td>1</td>\n",
       "      <td>0</td>\n",
       "    </tr>\n",
       "  </tbody>\n",
       "</table>\n",
       "<p>125899 rows × 23 columns</p>\n",
       "</div>"
      ],
      "text/plain": [
       "       Age     Class  Flight Distance  Inflight wifi service  \\\n",
       "0       13  Eco Plus              460                      3   \n",
       "1       25  Business              235                      3   \n",
       "2       26  Business             1142                      2   \n",
       "3       25  Business              562                      2   \n",
       "4       61  Business              214                      3   \n",
       "...    ...       ...              ...                    ...   \n",
       "25971   34  Business              526                      3   \n",
       "25972   23  Business              646                      4   \n",
       "25973   17       Eco              828                      2   \n",
       "25974   14  Business             1127                      3   \n",
       "25975   42       Eco              264                      2   \n",
       "\n",
       "       Departure/Arrival time convenient  Ease of Online booking  \\\n",
       "0                                      4                       3   \n",
       "1                                      2                       3   \n",
       "2                                      2                       2   \n",
       "3                                      5                       5   \n",
       "4                                      3                       3   \n",
       "...                                  ...                     ...   \n",
       "25971                                  3                       3   \n",
       "25972                                  4                       4   \n",
       "25973                                  5                       1   \n",
       "25974                                  3                       3   \n",
       "25975                                  5                       2   \n",
       "\n",
       "       Gate location  Food and drink  Online boarding  Seat comfort  ...  \\\n",
       "0                  1               5                3             5  ...   \n",
       "1                  3               1                3             1  ...   \n",
       "2                  2               5                5             5  ...   \n",
       "3                  5               2                2             2  ...   \n",
       "4                  3               4                5             5  ...   \n",
       "...              ...             ...              ...           ...  ...   \n",
       "25971              1               4                3             4  ...   \n",
       "25972              4               4                4             4  ...   \n",
       "25973              5               2                1             2  ...   \n",
       "25974              3               4                4             4  ...   \n",
       "25975              5               4                2             2  ...   \n",
       "\n",
       "       Baggage handling  Checkin service  Inflight service  Cleanliness  \\\n",
       "0                     4                4                 5            5   \n",
       "1                     3                1                 4            1   \n",
       "2                     4                4                 4            5   \n",
       "3                     3                1                 4            2   \n",
       "4                     4                3                 3            3   \n",
       "...                 ...              ...               ...          ...   \n",
       "25971                 4                4                 5            4   \n",
       "25972                 5                5                 5            4   \n",
       "25973                 4                5                 4            2   \n",
       "25974                 5                4                 5            4   \n",
       "25975                 1                1                 1            1   \n",
       "\n",
       "       Departure Delay in Minutes  Arrival Delay in Minutes  Gender_Male  \\\n",
       "0                              25                      18.0            1   \n",
       "1                               1                       6.0            1   \n",
       "2                               0                       0.0            0   \n",
       "3                              11                       9.0            0   \n",
       "4                               0                       0.0            1   \n",
       "...                           ...                       ...          ...   \n",
       "25971                           0                       0.0            1   \n",
       "25972                           0                       0.0            1   \n",
       "25973                           0                       0.0            0   \n",
       "25974                           0                       0.0            1   \n",
       "25975                           0                       0.0            0   \n",
       "\n",
       "       Customer Type_disloyal Customer  Type of Travel_Personal Travel  \\\n",
       "0                                    0                               1   \n",
       "1                                    1                               0   \n",
       "2                                    0                               0   \n",
       "3                                    0                               0   \n",
       "4                                    0                               0   \n",
       "...                                ...                             ...   \n",
       "25971                                1                               0   \n",
       "25972                                0                               0   \n",
       "25973                                0                               1   \n",
       "25974                                0                               0   \n",
       "25975                                0                               1   \n",
       "\n",
       "       satisfaction_satisfied  \n",
       "0                           0  \n",
       "1                           0  \n",
       "2                           1  \n",
       "3                           0  \n",
       "4                           1  \n",
       "...                       ...  \n",
       "25971                       0  \n",
       "25972                       1  \n",
       "25973                       0  \n",
       "25974                       1  \n",
       "25975                       0  \n",
       "\n",
       "[125899 rows x 23 columns]"
      ]
     },
     "execution_count": 81,
     "metadata": {},
     "output_type": "execute_result"
    }
   ],
   "source": [
    "df"
   ]
  },
  {
   "cell_type": "code",
   "execution_count": 82,
   "id": "bee0353d",
   "metadata": {},
   "outputs": [],
   "source": [
    "#pd.pivot_table(data=df , index='Age' , values='satisfaction' ,aggfunc='count')-->for gategorical with categorical\n"
   ]
  },
  {
   "cell_type": "code",
   "execution_count": 83,
   "id": "58d55b63",
   "metadata": {},
   "outputs": [],
   "source": [
    "Class_dict = {'Business':0, \n",
    "        'Eco':1,\n",
    "        'Eco Plus':2}\n",
    "\n",
    "# apply using map\n",
    "df['Class'] = df['Class'].map(Class_dict)\n"
   ]
  },
  {
   "cell_type": "code",
   "execution_count": 84,
   "id": "35811572",
   "metadata": {},
   "outputs": [],
   "source": [
    "x = df.drop('satisfaction_satisfied',axis=1)\n",
    "y = df['satisfaction_satisfied']\n",
    "\n",
    "from sklearn.model_selection import train_test_split\n",
    "\n",
    "X_train, X_test, y_train, y_test = train_test_split(x , y , test_size=0.1)"
   ]
  },
  {
   "cell_type": "code",
   "execution_count": 86,
   "id": "82b6ad59",
   "metadata": {},
   "outputs": [
    {
     "data": {
      "text/html": [
       "<div>\n",
       "<style scoped>\n",
       "    .dataframe tbody tr th:only-of-type {\n",
       "        vertical-align: middle;\n",
       "    }\n",
       "\n",
       "    .dataframe tbody tr th {\n",
       "        vertical-align: top;\n",
       "    }\n",
       "\n",
       "    .dataframe thead th {\n",
       "        text-align: right;\n",
       "    }\n",
       "</style>\n",
       "<table border=\"1\" class=\"dataframe\">\n",
       "  <thead>\n",
       "    <tr style=\"text-align: right;\">\n",
       "      <th></th>\n",
       "      <th>Age</th>\n",
       "      <th>Class</th>\n",
       "      <th>Flight Distance</th>\n",
       "      <th>Inflight wifi service</th>\n",
       "      <th>Departure/Arrival time convenient</th>\n",
       "      <th>Ease of Online booking</th>\n",
       "      <th>Gate location</th>\n",
       "      <th>Food and drink</th>\n",
       "      <th>Online boarding</th>\n",
       "      <th>Seat comfort</th>\n",
       "      <th>...</th>\n",
       "      <th>Leg room service</th>\n",
       "      <th>Baggage handling</th>\n",
       "      <th>Checkin service</th>\n",
       "      <th>Inflight service</th>\n",
       "      <th>Cleanliness</th>\n",
       "      <th>Departure Delay in Minutes</th>\n",
       "      <th>Arrival Delay in Minutes</th>\n",
       "      <th>Gender_Male</th>\n",
       "      <th>Customer Type_disloyal Customer</th>\n",
       "      <th>Type of Travel_Personal Travel</th>\n",
       "    </tr>\n",
       "  </thead>\n",
       "  <tbody>\n",
       "    <tr>\n",
       "      <th>26437</th>\n",
       "      <td>16</td>\n",
       "      <td>1</td>\n",
       "      <td>937</td>\n",
       "      <td>1</td>\n",
       "      <td>4</td>\n",
       "      <td>1</td>\n",
       "      <td>3</td>\n",
       "      <td>1</td>\n",
       "      <td>1</td>\n",
       "      <td>1</td>\n",
       "      <td>...</td>\n",
       "      <td>4</td>\n",
       "      <td>5</td>\n",
       "      <td>4</td>\n",
       "      <td>4</td>\n",
       "      <td>1</td>\n",
       "      <td>0</td>\n",
       "      <td>0.0</td>\n",
       "      <td>1</td>\n",
       "      <td>0</td>\n",
       "      <td>1</td>\n",
       "    </tr>\n",
       "    <tr>\n",
       "      <th>23670</th>\n",
       "      <td>31</td>\n",
       "      <td>0</td>\n",
       "      <td>2641</td>\n",
       "      <td>2</td>\n",
       "      <td>2</td>\n",
       "      <td>2</td>\n",
       "      <td>2</td>\n",
       "      <td>5</td>\n",
       "      <td>5</td>\n",
       "      <td>5</td>\n",
       "      <td>...</td>\n",
       "      <td>4</td>\n",
       "      <td>5</td>\n",
       "      <td>4</td>\n",
       "      <td>4</td>\n",
       "      <td>5</td>\n",
       "      <td>0</td>\n",
       "      <td>0.0</td>\n",
       "      <td>1</td>\n",
       "      <td>0</td>\n",
       "      <td>0</td>\n",
       "    </tr>\n",
       "    <tr>\n",
       "      <th>57400</th>\n",
       "      <td>30</td>\n",
       "      <td>0</td>\n",
       "      <td>725</td>\n",
       "      <td>3</td>\n",
       "      <td>3</td>\n",
       "      <td>3</td>\n",
       "      <td>3</td>\n",
       "      <td>4</td>\n",
       "      <td>4</td>\n",
       "      <td>4</td>\n",
       "      <td>...</td>\n",
       "      <td>5</td>\n",
       "      <td>4</td>\n",
       "      <td>3</td>\n",
       "      <td>5</td>\n",
       "      <td>4</td>\n",
       "      <td>0</td>\n",
       "      <td>1.0</td>\n",
       "      <td>1</td>\n",
       "      <td>0</td>\n",
       "      <td>0</td>\n",
       "    </tr>\n",
       "    <tr>\n",
       "      <th>27381</th>\n",
       "      <td>20</td>\n",
       "      <td>1</td>\n",
       "      <td>369</td>\n",
       "      <td>3</td>\n",
       "      <td>3</td>\n",
       "      <td>3</td>\n",
       "      <td>1</td>\n",
       "      <td>2</td>\n",
       "      <td>3</td>\n",
       "      <td>2</td>\n",
       "      <td>...</td>\n",
       "      <td>2</td>\n",
       "      <td>1</td>\n",
       "      <td>3</td>\n",
       "      <td>4</td>\n",
       "      <td>2</td>\n",
       "      <td>0</td>\n",
       "      <td>0.0</td>\n",
       "      <td>1</td>\n",
       "      <td>1</td>\n",
       "      <td>0</td>\n",
       "    </tr>\n",
       "    <tr>\n",
       "      <th>44602</th>\n",
       "      <td>36</td>\n",
       "      <td>1</td>\n",
       "      <td>1176</td>\n",
       "      <td>3</td>\n",
       "      <td>3</td>\n",
       "      <td>3</td>\n",
       "      <td>3</td>\n",
       "      <td>3</td>\n",
       "      <td>3</td>\n",
       "      <td>3</td>\n",
       "      <td>...</td>\n",
       "      <td>3</td>\n",
       "      <td>4</td>\n",
       "      <td>2</td>\n",
       "      <td>4</td>\n",
       "      <td>3</td>\n",
       "      <td>30</td>\n",
       "      <td>65.0</td>\n",
       "      <td>1</td>\n",
       "      <td>0</td>\n",
       "      <td>0</td>\n",
       "    </tr>\n",
       "    <tr>\n",
       "      <th>...</th>\n",
       "      <td>...</td>\n",
       "      <td>...</td>\n",
       "      <td>...</td>\n",
       "      <td>...</td>\n",
       "      <td>...</td>\n",
       "      <td>...</td>\n",
       "      <td>...</td>\n",
       "      <td>...</td>\n",
       "      <td>...</td>\n",
       "      <td>...</td>\n",
       "      <td>...</td>\n",
       "      <td>...</td>\n",
       "      <td>...</td>\n",
       "      <td>...</td>\n",
       "      <td>...</td>\n",
       "      <td>...</td>\n",
       "      <td>...</td>\n",
       "      <td>...</td>\n",
       "      <td>...</td>\n",
       "      <td>...</td>\n",
       "      <td>...</td>\n",
       "    </tr>\n",
       "    <tr>\n",
       "      <th>4707</th>\n",
       "      <td>36</td>\n",
       "      <td>0</td>\n",
       "      <td>468</td>\n",
       "      <td>3</td>\n",
       "      <td>3</td>\n",
       "      <td>3</td>\n",
       "      <td>3</td>\n",
       "      <td>3</td>\n",
       "      <td>1</td>\n",
       "      <td>1</td>\n",
       "      <td>...</td>\n",
       "      <td>4</td>\n",
       "      <td>5</td>\n",
       "      <td>1</td>\n",
       "      <td>5</td>\n",
       "      <td>1</td>\n",
       "      <td>157</td>\n",
       "      <td>135.0</td>\n",
       "      <td>0</td>\n",
       "      <td>1</td>\n",
       "      <td>0</td>\n",
       "    </tr>\n",
       "    <tr>\n",
       "      <th>12346</th>\n",
       "      <td>24</td>\n",
       "      <td>1</td>\n",
       "      <td>591</td>\n",
       "      <td>5</td>\n",
       "      <td>4</td>\n",
       "      <td>5</td>\n",
       "      <td>5</td>\n",
       "      <td>5</td>\n",
       "      <td>4</td>\n",
       "      <td>5</td>\n",
       "      <td>...</td>\n",
       "      <td>2</td>\n",
       "      <td>5</td>\n",
       "      <td>4</td>\n",
       "      <td>4</td>\n",
       "      <td>5</td>\n",
       "      <td>0</td>\n",
       "      <td>0.0</td>\n",
       "      <td>0</td>\n",
       "      <td>1</td>\n",
       "      <td>0</td>\n",
       "    </tr>\n",
       "    <tr>\n",
       "      <th>39920</th>\n",
       "      <td>51</td>\n",
       "      <td>0</td>\n",
       "      <td>1679</td>\n",
       "      <td>0</td>\n",
       "      <td>0</td>\n",
       "      <td>0</td>\n",
       "      <td>4</td>\n",
       "      <td>2</td>\n",
       "      <td>5</td>\n",
       "      <td>5</td>\n",
       "      <td>...</td>\n",
       "      <td>2</td>\n",
       "      <td>2</td>\n",
       "      <td>4</td>\n",
       "      <td>2</td>\n",
       "      <td>3</td>\n",
       "      <td>0</td>\n",
       "      <td>0.0</td>\n",
       "      <td>1</td>\n",
       "      <td>0</td>\n",
       "      <td>0</td>\n",
       "    </tr>\n",
       "    <tr>\n",
       "      <th>70946</th>\n",
       "      <td>63</td>\n",
       "      <td>1</td>\n",
       "      <td>480</td>\n",
       "      <td>4</td>\n",
       "      <td>3</td>\n",
       "      <td>4</td>\n",
       "      <td>2</td>\n",
       "      <td>4</td>\n",
       "      <td>1</td>\n",
       "      <td>3</td>\n",
       "      <td>...</td>\n",
       "      <td>4</td>\n",
       "      <td>4</td>\n",
       "      <td>2</td>\n",
       "      <td>2</td>\n",
       "      <td>4</td>\n",
       "      <td>11</td>\n",
       "      <td>11.0</td>\n",
       "      <td>0</td>\n",
       "      <td>0</td>\n",
       "      <td>1</td>\n",
       "    </tr>\n",
       "    <tr>\n",
       "      <th>4830</th>\n",
       "      <td>15</td>\n",
       "      <td>1</td>\n",
       "      <td>1121</td>\n",
       "      <td>4</td>\n",
       "      <td>5</td>\n",
       "      <td>4</td>\n",
       "      <td>3</td>\n",
       "      <td>4</td>\n",
       "      <td>4</td>\n",
       "      <td>4</td>\n",
       "      <td>...</td>\n",
       "      <td>3</td>\n",
       "      <td>5</td>\n",
       "      <td>4</td>\n",
       "      <td>5</td>\n",
       "      <td>4</td>\n",
       "      <td>0</td>\n",
       "      <td>0.0</td>\n",
       "      <td>0</td>\n",
       "      <td>0</td>\n",
       "      <td>1</td>\n",
       "    </tr>\n",
       "  </tbody>\n",
       "</table>\n",
       "<p>113309 rows × 22 columns</p>\n",
       "</div>"
      ],
      "text/plain": [
       "       Age  Class  Flight Distance  Inflight wifi service  \\\n",
       "26437   16      1              937                      1   \n",
       "23670   31      0             2641                      2   \n",
       "57400   30      0              725                      3   \n",
       "27381   20      1              369                      3   \n",
       "44602   36      1             1176                      3   \n",
       "...    ...    ...              ...                    ...   \n",
       "4707    36      0              468                      3   \n",
       "12346   24      1              591                      5   \n",
       "39920   51      0             1679                      0   \n",
       "70946   63      1              480                      4   \n",
       "4830    15      1             1121                      4   \n",
       "\n",
       "       Departure/Arrival time convenient  Ease of Online booking  \\\n",
       "26437                                  4                       1   \n",
       "23670                                  2                       2   \n",
       "57400                                  3                       3   \n",
       "27381                                  3                       3   \n",
       "44602                                  3                       3   \n",
       "...                                  ...                     ...   \n",
       "4707                                   3                       3   \n",
       "12346                                  4                       5   \n",
       "39920                                  0                       0   \n",
       "70946                                  3                       4   \n",
       "4830                                   5                       4   \n",
       "\n",
       "       Gate location  Food and drink  Online boarding  Seat comfort  ...  \\\n",
       "26437              3               1                1             1  ...   \n",
       "23670              2               5                5             5  ...   \n",
       "57400              3               4                4             4  ...   \n",
       "27381              1               2                3             2  ...   \n",
       "44602              3               3                3             3  ...   \n",
       "...              ...             ...              ...           ...  ...   \n",
       "4707               3               3                1             1  ...   \n",
       "12346              5               5                4             5  ...   \n",
       "39920              4               2                5             5  ...   \n",
       "70946              2               4                1             3  ...   \n",
       "4830               3               4                4             4  ...   \n",
       "\n",
       "       Leg room service  Baggage handling  Checkin service  Inflight service  \\\n",
       "26437                 4                 5                4                 4   \n",
       "23670                 4                 5                4                 4   \n",
       "57400                 5                 4                3                 5   \n",
       "27381                 2                 1                3                 4   \n",
       "44602                 3                 4                2                 4   \n",
       "...                 ...               ...              ...               ...   \n",
       "4707                  4                 5                1                 5   \n",
       "12346                 2                 5                4                 4   \n",
       "39920                 2                 2                4                 2   \n",
       "70946                 4                 4                2                 2   \n",
       "4830                  3                 5                4                 5   \n",
       "\n",
       "       Cleanliness  Departure Delay in Minutes  Arrival Delay in Minutes  \\\n",
       "26437            1                           0                       0.0   \n",
       "23670            5                           0                       0.0   \n",
       "57400            4                           0                       1.0   \n",
       "27381            2                           0                       0.0   \n",
       "44602            3                          30                      65.0   \n",
       "...            ...                         ...                       ...   \n",
       "4707             1                         157                     135.0   \n",
       "12346            5                           0                       0.0   \n",
       "39920            3                           0                       0.0   \n",
       "70946            4                          11                      11.0   \n",
       "4830             4                           0                       0.0   \n",
       "\n",
       "       Gender_Male  Customer Type_disloyal Customer  \\\n",
       "26437            1                                0   \n",
       "23670            1                                0   \n",
       "57400            1                                0   \n",
       "27381            1                                1   \n",
       "44602            1                                0   \n",
       "...            ...                              ...   \n",
       "4707             0                                1   \n",
       "12346            0                                1   \n",
       "39920            1                                0   \n",
       "70946            0                                0   \n",
       "4830             0                                0   \n",
       "\n",
       "       Type of Travel_Personal Travel  \n",
       "26437                               1  \n",
       "23670                               0  \n",
       "57400                               0  \n",
       "27381                               0  \n",
       "44602                               0  \n",
       "...                               ...  \n",
       "4707                                0  \n",
       "12346                               0  \n",
       "39920                               0  \n",
       "70946                               1  \n",
       "4830                                1  \n",
       "\n",
       "[113309 rows x 22 columns]"
      ]
     },
     "execution_count": 86,
     "metadata": {},
     "output_type": "execute_result"
    }
   ],
   "source": [
    "X_train"
   ]
  },
  {
   "cell_type": "code",
   "execution_count": 87,
   "id": "2eed78b3",
   "metadata": {},
   "outputs": [],
   "source": [
    "from sklearn.preprocessing import StandardScaler\n",
    "\n",
    "scaler = StandardScaler()\n",
    "scaler.fit(X_train)\n",
    "X_train = scaler.transform(X_train)\n",
    "X_test = scaler.transform(X_test)\n"
   ]
  },
  {
   "cell_type": "code",
   "execution_count": null,
   "id": "db5a54d3",
   "metadata": {},
   "outputs": [],
   "source": []
  },
  {
   "cell_type": "code",
   "execution_count": 88,
   "id": "237c8bc5",
   "metadata": {},
   "outputs": [],
   "source": [
    "from sklearn.linear_model import LogisticRegression\n",
    "from sklearn.neighbors import KNeighborsClassifier\n",
    "from sklearn.svm import SVC\n",
    "from sklearn.tree import DecisionTreeClassifier\n",
    "from sklearn.ensemble import RandomForestClassifier\n",
    "from xgboost import XGBRFClassifier\n",
    "from sklearn.metrics import confusion_matrix , recall_score , precision_score , f1_score , fbeta_score ,accuracy_score , plot_confusion_matrix\n",
    "from sklearn.naive_bayes import GaussianNB"
   ]
  },
  {
   "cell_type": "code",
   "execution_count": 89,
   "id": "7a98b757",
   "metadata": {},
   "outputs": [
    {
     "name": "stdout",
     "output_type": "stream",
     "text": [
      "training model: LR ..\n",
      "Training Score: 0.8742994819475947\n",
      "Testing Score: 0.8754567116759333\n",
      "Testing Score:[[6532  688]\n",
      " [ 880 4490]]\n",
      "______________________________\n",
      "training model: KNN ..\n"
     ]
    },
    {
     "name": "stderr",
     "output_type": "stream",
     "text": [
      "C:\\Users\\sarah\\anaconda3\\lib\\site-packages\\sklearn\\neighbors\\_classification.py:228: FutureWarning: Unlike other reduction functions (e.g. `skew`, `kurtosis`), the default behavior of `mode` typically preserves the axis it acts along. In SciPy 1.11.0, this behavior will change: the default value of `keepdims` will become False, the `axis` over which the statistic is taken will be eliminated, and the value None will no longer be accepted. Set `keepdims` to True or False to avoid this warning.\n",
      "  mode, _ = stats.mode(_y[neigh_ind, k], axis=1)\n",
      "C:\\Users\\sarah\\anaconda3\\lib\\site-packages\\sklearn\\neighbors\\_classification.py:228: FutureWarning: Unlike other reduction functions (e.g. `skew`, `kurtosis`), the default behavior of `mode` typically preserves the axis it acts along. In SciPy 1.11.0, this behavior will change: the default value of `keepdims` will become False, the `axis` over which the statistic is taken will be eliminated, and the value None will no longer be accepted. Set `keepdims` to True or False to avoid this warning.\n",
      "  mode, _ = stats.mode(_y[neigh_ind, k], axis=1)\n"
     ]
    },
    {
     "name": "stdout",
     "output_type": "stream",
     "text": [
      "Training Score: 0.9497303832881766\n"
     ]
    },
    {
     "name": "stderr",
     "output_type": "stream",
     "text": [
      "C:\\Users\\sarah\\anaconda3\\lib\\site-packages\\sklearn\\neighbors\\_classification.py:228: FutureWarning: Unlike other reduction functions (e.g. `skew`, `kurtosis`), the default behavior of `mode` typically preserves the axis it acts along. In SciPy 1.11.0, this behavior will change: the default value of `keepdims` will become False, the `axis` over which the statistic is taken will be eliminated, and the value None will no longer be accepted. Set `keepdims` to True or False to avoid this warning.\n",
      "  mode, _ = stats.mode(_y[neigh_ind, k], axis=1)\n"
     ]
    },
    {
     "name": "stdout",
     "output_type": "stream",
     "text": [
      "Testing Score: 0.9305798252581414\n",
      "Testing Score:[[6939  281]\n",
      " [ 593 4777]]\n",
      "______________________________\n",
      "training model: svm ..\n",
      "Training Score: 0.9588911736931753\n",
      "Testing Score: 0.9548054011119936\n",
      "Testing Score:[[7011  209]\n",
      " [ 360 5010]]\n",
      "______________________________\n",
      "training model: DT ..\n",
      "Training Score: 1.0\n",
      "Testing Score: 0.9467831612390787\n",
      "Testing Score:[[6875  345]\n",
      " [ 325 5045]]\n",
      "______________________________\n",
      "training model: RF ..\n",
      "Training Score: 1.0\n",
      "Testing Score: 0.9643367752184273\n",
      "Testing Score:[[7090  130]\n",
      " [ 319 5051]]\n",
      "______________________________\n",
      "training model: Xgboost ..\n",
      "Training Score: 0.9343564941884581\n",
      "Testing Score: 0.9353455123113582\n",
      "Testing Score:[[6841  379]\n",
      " [ 435 4935]]\n",
      "______________________________\n",
      "training model: naive_bayes ..\n",
      "Training Score: 0.8630735422605442\n",
      "Testing Score: 0.8654487688641779\n",
      "Testing Score:[[6489  731]\n",
      " [ 963 4407]]\n",
      "______________________________\n"
     ]
    }
   ],
   "source": [
    "\n",
    "models = {\n",
    "    'LR': LogisticRegression(),\n",
    "    'KNN' : KNeighborsClassifier(),\n",
    "    'svm' : SVC(),\n",
    "    'DT' : DecisionTreeClassifier(),\n",
    "    'RF' : RandomForestClassifier(),\n",
    "    'Xgboost' : XGBRFClassifier(),\n",
    "    'naive_bayes':GaussianNB()\n",
    "}\n",
    "for name,model in models.items():\n",
    "    print(f'training model: {name} ..' )\n",
    "    model.fit(X_train ,y_train)\n",
    "    y_pred = model.predict(X_test)\n",
    "    print(f'Training Score: {model.score(X_train, y_train)}')#---->for over and underfitting\n",
    "    print(f'Testing Score: {model.score(X_test, y_test)}')#------->\n",
    "    print(f'Testing Score:{ confusion_matrix(y_test , y_pred)}')\n",
    "    print('_'*30)"
   ]
  },
  {
   "cell_type": "code",
   "execution_count": 90,
   "id": "a281ef6a",
   "metadata": {},
   "outputs": [
    {
     "data": {
      "text/plain": [
       "RandomForestClassifier(n_estimators=200)"
      ]
     },
     "execution_count": 90,
     "metadata": {},
     "output_type": "execute_result"
    }
   ],
   "source": [
    "model = RandomForestClassifier(n_estimators=200)\n",
    "model.fit(X_train ,y_train)"
   ]
  },
  {
   "cell_type": "code",
   "execution_count": 91,
   "id": "065a9dac",
   "metadata": {},
   "outputs": [
    {
     "data": {
      "text/plain": [
       "array([[6489,  731],\n",
       "       [ 963, 4407]], dtype=int64)"
      ]
     },
     "execution_count": 91,
     "metadata": {},
     "output_type": "execute_result"
    }
   ],
   "source": [
    "confusion_matrix(y_test , y_pred)"
   ]
  },
  {
   "cell_type": "code",
   "execution_count": 92,
   "id": "f164c5c9",
   "metadata": {},
   "outputs": [
    {
     "name": "stderr",
     "output_type": "stream",
     "text": [
      "C:\\Users\\sarah\\anaconda3\\lib\\site-packages\\sklearn\\utils\\deprecation.py:87: FutureWarning: Function plot_confusion_matrix is deprecated; Function `plot_confusion_matrix` is deprecated in 1.0 and will be removed in 1.2. Use one of the class methods: ConfusionMatrixDisplay.from_predictions or ConfusionMatrixDisplay.from_estimator.\n",
      "  warnings.warn(msg, category=FutureWarning)\n"
     ]
    },
    {
     "data": {
      "text/plain": [
       "<sklearn.metrics._plot.confusion_matrix.ConfusionMatrixDisplay at 0x16940aba7f0>"
      ]
     },
     "execution_count": 92,
     "metadata": {},
     "output_type": "execute_result"
    },
    {
     "data": {
      "image/png": "[encoded data removed]",
      "text/plain": [
       "<Figure size 900x900 with 2 Axes>"
      ]
     },
     "metadata": {},
     "output_type": "display_data"
    }
   ],
   "source": [
    "plot_confusion_matrix(model , X_test , y_test)"
   ]
  },
  {
   "cell_type": "code",
   "execution_count": 93,
   "id": "59ea91c8",
   "metadata": {},
   "outputs": [
    {
     "data": {
      "text/plain": [
       "0.8654487688641779"
      ]
     },
     "execution_count": 93,
     "metadata": {},
     "output_type": "execute_result"
    }
   ],
   "source": [
    "accuracy_score(y_test , y_pred)#equation of error confusion matrix score "
   ]
  },
  {
   "cell_type": "code",
   "execution_count": 94,
   "id": "07ee251d",
   "metadata": {},
   "outputs": [
    {
     "data": {
      "text/plain": [
       "0.8206703910614526"
      ]
     },
     "execution_count": 94,
     "metadata": {},
     "output_type": "execute_result"
    }
   ],
   "source": [
    "recall_score(y_test , y_pred)#fn"
   ]
  },
  {
   "cell_type": "code",
   "execution_count": 95,
   "id": "53861521",
   "metadata": {},
   "outputs": [
    {
     "data": {
      "text/plain": [
       "0.8577267419229272"
      ]
     },
     "execution_count": 95,
     "metadata": {},
     "output_type": "execute_result"
    }
   ],
   "source": [
    "precision_score(y_test , y_pred)#fp"
   ]
  },
  {
   "cell_type": "code",
   "execution_count": 96,
   "id": "4f081360",
   "metadata": {},
   "outputs": [
    {
     "data": {
      "text/plain": [
       "0.8387894937190712"
      ]
     },
     "execution_count": 96,
     "metadata": {},
     "output_type": "execute_result"
    }
   ],
   "source": [
    "f1_score(y_test , y_pred)"
   ]
  },
  {
   "cell_type": "code",
   "execution_count": 97,
   "id": "63c316dd",
   "metadata": {},
   "outputs": [
    {
     "data": {
      "text/plain": [
       "0.8500501504513541"
      ]
     },
     "execution_count": 97,
     "metadata": {},
     "output_type": "execute_result"
    }
   ],
   "source": [
    "fbeta_score(y_test , y_pred , beta=0.5)#0.5 focus on percesion"
   ]
  },
  {
   "cell_type": "code",
   "execution_count": 98,
   "id": "5c7f7348",
   "metadata": {},
   "outputs": [
    {
     "data": {
      "text/plain": [
       "0.8278232774814036"
      ]
     },
     "execution_count": 98,
     "metadata": {},
     "output_type": "execute_result"
    }
   ],
   "source": [
    "fbeta_score(y_test , y_pred , beta=2)#2 focus on recall"
   ]
  },
  {
   "cell_type": "code",
   "execution_count": null,
   "id": "7f5fe427",
   "metadata": {},
   "outputs": [],
   "source": []
  }
 ],
 "metadata": {
  "kernelspec": {
   "display_name": "Python 3 (ipykernel)",
   "language": "python",
   "name": "python3"
  },
  "language_info": {
   "codemirror_mode": {
    "name": "ipython",
    "version": 3
   },
   "file_extension": ".py",
   "mimetype": "text/x-python",
   "name": "python",
   "nbconvert_exporter": "python",
   "pygments_lexer": "ipython3",
   "version": "3.9.13"
  }
 },
 "nbformat": 4,
 "nbformat_minor": 5
}
